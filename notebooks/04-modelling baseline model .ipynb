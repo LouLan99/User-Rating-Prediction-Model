{
 "cells": [
  {
   "cell_type": "markdown",
   "metadata": {},
   "source": [
    "### Baseline Model"
   ]
  },
  {
   "cell_type": "markdown",
   "metadata": {},
   "source": [
    "INTRODUCTION: This notebooks is for the creation of our baseline model. Before our modelling we will do a Train Test Split and we also scale our dataset by applying a Standard Scaler. Then we are going to train our dataset on 2 differents model, the first model is a linear regression (the model predict the target variable base on its other features) and the seconde model is a decision tree regressor (the model is predicting base on questions)."
   ]
  },
  {
   "cell_type": "code",
   "execution_count": 5,
   "metadata": {},
   "outputs": [],
   "source": [
    "import pandas as pd\n",
    "from sklearn.model_selection import train_test_split\n",
    "from sklearn.linear_model import LinearRegression\n",
    "from sklearn.preprocessing import StandardScaler\n",
    "from sklearn.tree import DecisionTreeRegressor\n"
   ]
  },
  {
   "cell_type": "code",
   "execution_count": 6,
   "metadata": {},
   "outputs": [
    {
     "data": {
      "text/html": [
       "<div>\n",
       "<style scoped>\n",
       "    .dataframe tbody tr th:only-of-type {\n",
       "        vertical-align: middle;\n",
       "    }\n",
       "\n",
       "    .dataframe tbody tr th {\n",
       "        vertical-align: top;\n",
       "    }\n",
       "\n",
       "    .dataframe thead th {\n",
       "        text-align: right;\n",
       "    }\n",
       "</style>\n",
       "<table border=\"1\" class=\"dataframe\">\n",
       "  <thead>\n",
       "    <tr style=\"text-align: right;\">\n",
       "      <th></th>\n",
       "      <th>Rating</th>\n",
       "      <th>Rating Count</th>\n",
       "      <th>Free</th>\n",
       "      <th>Price</th>\n",
       "      <th>Ad Supported</th>\n",
       "      <th>In App Purchases</th>\n",
       "      <th>Editors Choice</th>\n",
       "      <th>Category_Arcade</th>\n",
       "      <th>Category_Books &amp; Reference</th>\n",
       "      <th>Category_Business</th>\n",
       "      <th>...</th>\n",
       "      <th>Category_Productivity</th>\n",
       "      <th>Category_Puzzle</th>\n",
       "      <th>Category_Shopping</th>\n",
       "      <th>Category_Social</th>\n",
       "      <th>Category_Sports</th>\n",
       "      <th>Category_Tools</th>\n",
       "      <th>Category_Travel &amp; Local</th>\n",
       "      <th>Category_other</th>\n",
       "      <th>Content_Rating_Everyone</th>\n",
       "      <th>Content_Rating_Not for Everyone</th>\n",
       "    </tr>\n",
       "  </thead>\n",
       "  <tbody>\n",
       "    <tr>\n",
       "      <th>0</th>\n",
       "      <td>3.9</td>\n",
       "      <td>68.0</td>\n",
       "      <td>1</td>\n",
       "      <td>0.0</td>\n",
       "      <td>0</td>\n",
       "      <td>0</td>\n",
       "      <td>0</td>\n",
       "      <td>0</td>\n",
       "      <td>0</td>\n",
       "      <td>0</td>\n",
       "      <td>...</td>\n",
       "      <td>0</td>\n",
       "      <td>0</td>\n",
       "      <td>0</td>\n",
       "      <td>0</td>\n",
       "      <td>0</td>\n",
       "      <td>0</td>\n",
       "      <td>0</td>\n",
       "      <td>0</td>\n",
       "      <td>1</td>\n",
       "      <td>0</td>\n",
       "    </tr>\n",
       "    <tr>\n",
       "      <th>1</th>\n",
       "      <td>0.0</td>\n",
       "      <td>0.0</td>\n",
       "      <td>1</td>\n",
       "      <td>0.0</td>\n",
       "      <td>0</td>\n",
       "      <td>0</td>\n",
       "      <td>0</td>\n",
       "      <td>0</td>\n",
       "      <td>0</td>\n",
       "      <td>0</td>\n",
       "      <td>...</td>\n",
       "      <td>0</td>\n",
       "      <td>0</td>\n",
       "      <td>0</td>\n",
       "      <td>0</td>\n",
       "      <td>0</td>\n",
       "      <td>0</td>\n",
       "      <td>0</td>\n",
       "      <td>0</td>\n",
       "      <td>1</td>\n",
       "      <td>0</td>\n",
       "    </tr>\n",
       "    <tr>\n",
       "      <th>2</th>\n",
       "      <td>4.3</td>\n",
       "      <td>918.0</td>\n",
       "      <td>1</td>\n",
       "      <td>0.0</td>\n",
       "      <td>1</td>\n",
       "      <td>0</td>\n",
       "      <td>0</td>\n",
       "      <td>0</td>\n",
       "      <td>0</td>\n",
       "      <td>0</td>\n",
       "      <td>...</td>\n",
       "      <td>0</td>\n",
       "      <td>0</td>\n",
       "      <td>1</td>\n",
       "      <td>0</td>\n",
       "      <td>0</td>\n",
       "      <td>0</td>\n",
       "      <td>0</td>\n",
       "      <td>0</td>\n",
       "      <td>1</td>\n",
       "      <td>0</td>\n",
       "    </tr>\n",
       "    <tr>\n",
       "      <th>3</th>\n",
       "      <td>5.0</td>\n",
       "      <td>6.0</td>\n",
       "      <td>1</td>\n",
       "      <td>0.0</td>\n",
       "      <td>0</td>\n",
       "      <td>0</td>\n",
       "      <td>0</td>\n",
       "      <td>0</td>\n",
       "      <td>0</td>\n",
       "      <td>0</td>\n",
       "      <td>...</td>\n",
       "      <td>0</td>\n",
       "      <td>0</td>\n",
       "      <td>0</td>\n",
       "      <td>0</td>\n",
       "      <td>0</td>\n",
       "      <td>0</td>\n",
       "      <td>0</td>\n",
       "      <td>0</td>\n",
       "      <td>1</td>\n",
       "      <td>0</td>\n",
       "    </tr>\n",
       "    <tr>\n",
       "      <th>4</th>\n",
       "      <td>4.3</td>\n",
       "      <td>830.0</td>\n",
       "      <td>1</td>\n",
       "      <td>0.0</td>\n",
       "      <td>1</td>\n",
       "      <td>0</td>\n",
       "      <td>0</td>\n",
       "      <td>0</td>\n",
       "      <td>0</td>\n",
       "      <td>0</td>\n",
       "      <td>...</td>\n",
       "      <td>0</td>\n",
       "      <td>0</td>\n",
       "      <td>0</td>\n",
       "      <td>0</td>\n",
       "      <td>0</td>\n",
       "      <td>0</td>\n",
       "      <td>0</td>\n",
       "      <td>0</td>\n",
       "      <td>1</td>\n",
       "      <td>0</td>\n",
       "    </tr>\n",
       "  </tbody>\n",
       "</table>\n",
       "<p>5 rows × 30 columns</p>\n",
       "</div>"
      ],
      "text/plain": [
       "   Rating  Rating Count  Free  Price  Ad Supported  In App Purchases  \\\n",
       "0     3.9          68.0     1    0.0             0                 0   \n",
       "1     0.0           0.0     1    0.0             0                 0   \n",
       "2     4.3         918.0     1    0.0             1                 0   \n",
       "3     5.0           6.0     1    0.0             0                 0   \n",
       "4     4.3         830.0     1    0.0             1                 0   \n",
       "\n",
       "   Editors Choice  Category_Arcade  Category_Books & Reference  \\\n",
       "0               0                0                           0   \n",
       "1               0                0                           0   \n",
       "2               0                0                           0   \n",
       "3               0                0                           0   \n",
       "4               0                0                           0   \n",
       "\n",
       "   Category_Business  ...  Category_Productivity  Category_Puzzle  \\\n",
       "0                  0  ...                      0                0   \n",
       "1                  0  ...                      0                0   \n",
       "2                  0  ...                      0                0   \n",
       "3                  0  ...                      0                0   \n",
       "4                  0  ...                      0                0   \n",
       "\n",
       "   Category_Shopping  Category_Social  Category_Sports  Category_Tools  \\\n",
       "0                  0                0                0               0   \n",
       "1                  0                0                0               0   \n",
       "2                  1                0                0               0   \n",
       "3                  0                0                0               0   \n",
       "4                  0                0                0               0   \n",
       "\n",
       "   Category_Travel & Local  Category_other  Content_Rating_Everyone  \\\n",
       "0                        0               0                        1   \n",
       "1                        0               0                        1   \n",
       "2                        0               0                        1   \n",
       "3                        0               0                        1   \n",
       "4                        0               0                        1   \n",
       "\n",
       "   Content_Rating_Not for Everyone  \n",
       "0                                0  \n",
       "1                                0  \n",
       "2                                0  \n",
       "3                                0  \n",
       "4                                0  \n",
       "\n",
       "[5 rows x 30 columns]"
      ]
     },
     "execution_count": 6,
     "metadata": {},
     "output_type": "execute_result"
    }
   ],
   "source": [
    "df_modeling = pd.read_csv(filepath_or_buffer= \"../data/Dataset_for_modeling.csv\") \n",
    "df_modeling.head()"
   ]
  },
  {
   "attachments": {},
   "cell_type": "markdown",
   "metadata": {},
   "source": [
    "### Train-Test-Split"
   ]
  },
  {
   "cell_type": "markdown",
   "metadata": {},
   "source": [
    "The train test split is a machine learning practice commonly use to evaluate the performance of a model. The goal is to split the dataset into 2 part, the first part is the training then the other is the testing. The trained will be used to train the model while the test part will be used evaluate the model and see if it is predictive. The split made is 80% for the train and 20% for the test. "
   ]
  },
  {
   "cell_type": "code",
   "execution_count": 7,
   "metadata": {},
   "outputs": [],
   "source": [
    "X = df_modeling.drop(columns= 'Rating')\n",
    "y = df_modeling['Rating']"
   ]
  },
  {
   "cell_type": "code",
   "execution_count": 8,
   "metadata": {},
   "outputs": [
    {
     "data": {
      "text/plain": [
       "(9663, 29)"
      ]
     },
     "execution_count": 8,
     "metadata": {},
     "output_type": "execute_result"
    }
   ],
   "source": [
    "X.shape"
   ]
  },
  {
   "cell_type": "code",
   "execution_count": 9,
   "metadata": {},
   "outputs": [
    {
     "data": {
      "text/plain": [
       "(9663,)"
      ]
     },
     "execution_count": 9,
     "metadata": {},
     "output_type": "execute_result"
    }
   ],
   "source": [
    "y.shape"
   ]
  },
  {
   "cell_type": "code",
   "execution_count": 10,
   "metadata": {},
   "outputs": [],
   "source": [
    "X_train, X_test, y_train, y_test = train_test_split (X, y, test_size= 0.2, random_state = 1234)"
   ]
  },
  {
   "cell_type": "markdown",
   "metadata": {},
   "source": [
    "### Scaling the dataset"
   ]
  },
  {
   "cell_type": "markdown",
   "metadata": {},
   "source": [
    "Scaling a data is the action of normalize or put on the same the level a dataset, it is important to do it our data is not uniforme or contain very different numbers. \n",
    "We are using the standard scaler which will transform the dataset where each features will have a means of 0 and a standard deviation of 1."
   ]
  },
  {
   "cell_type": "code",
   "execution_count": 11,
   "metadata": {},
   "outputs": [],
   "source": [
    "lr_scaler = StandardScaler()\n",
    "X_train_s = lr_scaler.fit_transform(X_train)\n",
    "X_test_s = lr_scaler.transform(X_test)"
   ]
  },
  {
   "cell_type": "markdown",
   "metadata": {},
   "source": [
    "### Linear Regression Model"
   ]
  },
  {
   "cell_type": "code",
   "execution_count": 12,
   "metadata": {},
   "outputs": [
    {
     "data": {
      "text/plain": [
       "0.06634019787289747"
      ]
     },
     "execution_count": 12,
     "metadata": {},
     "output_type": "execute_result"
    }
   ],
   "source": [
    "lr_model = LinearRegression() \n",
    "lr_model.fit(X_train_s, y_train)\n",
    "lr_model.score(X_train_s, y_train)"
   ]
  },
  {
   "cell_type": "code",
   "execution_count": 13,
   "metadata": {},
   "outputs": [
    {
     "data": {
      "text/plain": [
       "-2045132947542293.5"
      ]
     },
     "execution_count": 13,
     "metadata": {},
     "output_type": "execute_result"
    }
   ],
   "source": [
    "lr_model.score(X_test_s, y_test)"
   ]
  },
  {
   "attachments": {},
   "cell_type": "markdown",
   "metadata": {},
   "source": [
    "We can see that the score are very small showing that the model does not fit the database. "
   ]
  },
  {
   "cell_type": "markdown",
   "metadata": {},
   "source": [
    "### Correlation of our columns"
   ]
  },
  {
   "cell_type": "code",
   "execution_count": 22,
   "metadata": {},
   "outputs": [
    {
     "data": {
      "text/plain": [
       "Index(['Rating Count', 'Free', 'Price', 'Ad Supported', 'In App Purchases',\n",
       "       'Editors Choice', 'Category_Arcade', 'Category_Books & Reference',\n",
       "       'Category_Business', 'Category_Casual', 'Category_Communication',\n",
       "       'Category_Education', 'Category_Entertainment', 'Category_Finance',\n",
       "       'Category_Food & Drink', 'Category_Health & Fitness',\n",
       "       'Category_Lifestyle', 'Category_Music & Audio',\n",
       "       'Category_Personalization', 'Category_Productivity', 'Category_Puzzle',\n",
       "       'Category_Shopping', 'Category_Social', 'Category_Sports',\n",
       "       'Category_Tools', 'Category_Travel & Local', 'Category_other',\n",
       "       'Content_Rating_Everyone', 'Content_Rating_Not for Everyone'],\n",
       "      dtype='object')"
      ]
     },
     "execution_count": 22,
     "metadata": {},
     "output_type": "execute_result"
    }
   ],
   "source": [
    "X_train_col = X_train.columns\n",
    "X_train_col"
   ]
  },
  {
   "cell_type": "code",
   "execution_count": 19,
   "metadata": {},
   "outputs": [],
   "source": [
    "coef_col = lr_model.coef_\n"
   ]
  },
  {
   "cell_type": "code",
   "execution_count": 20,
   "metadata": {},
   "outputs": [
    {
     "data": {
      "text/plain": [
       "array([ 7.12675482e-02, -7.08786356e-02, -3.48235052e-02,  2.44840078e-01,\n",
       "        2.67179546e-01,  4.18806743e+09, -2.33864028e+12, -3.35947778e+12,\n",
       "       -3.70769532e+12, -2.24242059e+12, -2.18920772e+12, -4.74194042e+12,\n",
       "       -3.72221460e+12, -2.41258763e+12, -2.69669364e+12, -2.75478351e+12,\n",
       "       -3.35535172e+12, -4.06972956e+12, -2.92601373e+12, -2.74432624e+12,\n",
       "       -2.30705614e+12, -2.70736138e+12, -2.27498980e+12, -2.16888605e+12,\n",
       "       -3.73305581e+12, -2.59843836e+12, -5.94153148e+12, -4.18409865e+12,\n",
       "       -4.18409865e+12])"
      ]
     },
     "execution_count": 20,
     "metadata": {},
     "output_type": "execute_result"
    }
   ],
   "source": [
    "coef_col"
   ]
  },
  {
   "cell_type": "code",
   "execution_count": 29,
   "metadata": {},
   "outputs": [
    {
     "data": {
      "text/html": [
       "<div>\n",
       "<style scoped>\n",
       "    .dataframe tbody tr th:only-of-type {\n",
       "        vertical-align: middle;\n",
       "    }\n",
       "\n",
       "    .dataframe tbody tr th {\n",
       "        vertical-align: top;\n",
       "    }\n",
       "\n",
       "    .dataframe thead th {\n",
       "        text-align: right;\n",
       "    }\n",
       "</style>\n",
       "<table border=\"1\" class=\"dataframe\">\n",
       "  <thead>\n",
       "    <tr style=\"text-align: right;\">\n",
       "      <th></th>\n",
       "      <th>0</th>\n",
       "    </tr>\n",
       "  </thead>\n",
       "  <tbody>\n",
       "    <tr>\n",
       "      <th>Rating Count</th>\n",
       "      <td>7.126755e-02</td>\n",
       "    </tr>\n",
       "    <tr>\n",
       "      <th>Free</th>\n",
       "      <td>-7.087864e-02</td>\n",
       "    </tr>\n",
       "    <tr>\n",
       "      <th>Price</th>\n",
       "      <td>-3.482351e-02</td>\n",
       "    </tr>\n",
       "    <tr>\n",
       "      <th>Ad Supported</th>\n",
       "      <td>2.448401e-01</td>\n",
       "    </tr>\n",
       "    <tr>\n",
       "      <th>In App Purchases</th>\n",
       "      <td>2.671795e-01</td>\n",
       "    </tr>\n",
       "    <tr>\n",
       "      <th>Editors Choice</th>\n",
       "      <td>4.188067e+09</td>\n",
       "    </tr>\n",
       "    <tr>\n",
       "      <th>Category_Arcade</th>\n",
       "      <td>-2.338640e+12</td>\n",
       "    </tr>\n",
       "    <tr>\n",
       "      <th>Category_Books &amp; Reference</th>\n",
       "      <td>-3.359478e+12</td>\n",
       "    </tr>\n",
       "    <tr>\n",
       "      <th>Category_Business</th>\n",
       "      <td>-3.707695e+12</td>\n",
       "    </tr>\n",
       "    <tr>\n",
       "      <th>Category_Casual</th>\n",
       "      <td>-2.242421e+12</td>\n",
       "    </tr>\n",
       "    <tr>\n",
       "      <th>Category_Communication</th>\n",
       "      <td>-2.189208e+12</td>\n",
       "    </tr>\n",
       "    <tr>\n",
       "      <th>Category_Education</th>\n",
       "      <td>-4.741940e+12</td>\n",
       "    </tr>\n",
       "    <tr>\n",
       "      <th>Category_Entertainment</th>\n",
       "      <td>-3.722215e+12</td>\n",
       "    </tr>\n",
       "    <tr>\n",
       "      <th>Category_Finance</th>\n",
       "      <td>-2.412588e+12</td>\n",
       "    </tr>\n",
       "    <tr>\n",
       "      <th>Category_Food &amp; Drink</th>\n",
       "      <td>-2.696694e+12</td>\n",
       "    </tr>\n",
       "    <tr>\n",
       "      <th>Category_Health &amp; Fitness</th>\n",
       "      <td>-2.754784e+12</td>\n",
       "    </tr>\n",
       "    <tr>\n",
       "      <th>Category_Lifestyle</th>\n",
       "      <td>-3.355352e+12</td>\n",
       "    </tr>\n",
       "    <tr>\n",
       "      <th>Category_Music &amp; Audio</th>\n",
       "      <td>-4.069730e+12</td>\n",
       "    </tr>\n",
       "    <tr>\n",
       "      <th>Category_Personalization</th>\n",
       "      <td>-2.926014e+12</td>\n",
       "    </tr>\n",
       "    <tr>\n",
       "      <th>Category_Productivity</th>\n",
       "      <td>-2.744326e+12</td>\n",
       "    </tr>\n",
       "    <tr>\n",
       "      <th>Category_Puzzle</th>\n",
       "      <td>-2.307056e+12</td>\n",
       "    </tr>\n",
       "    <tr>\n",
       "      <th>Category_Shopping</th>\n",
       "      <td>-2.707361e+12</td>\n",
       "    </tr>\n",
       "    <tr>\n",
       "      <th>Category_Social</th>\n",
       "      <td>-2.274990e+12</td>\n",
       "    </tr>\n",
       "    <tr>\n",
       "      <th>Category_Sports</th>\n",
       "      <td>-2.168886e+12</td>\n",
       "    </tr>\n",
       "    <tr>\n",
       "      <th>Category_Tools</th>\n",
       "      <td>-3.733056e+12</td>\n",
       "    </tr>\n",
       "    <tr>\n",
       "      <th>Category_Travel &amp; Local</th>\n",
       "      <td>-2.598438e+12</td>\n",
       "    </tr>\n",
       "    <tr>\n",
       "      <th>Category_other</th>\n",
       "      <td>-5.941531e+12</td>\n",
       "    </tr>\n",
       "    <tr>\n",
       "      <th>Content_Rating_Everyone</th>\n",
       "      <td>-4.184099e+12</td>\n",
       "    </tr>\n",
       "    <tr>\n",
       "      <th>Content_Rating_Not for Everyone</th>\n",
       "      <td>-4.184099e+12</td>\n",
       "    </tr>\n",
       "  </tbody>\n",
       "</table>\n",
       "</div>"
      ],
      "text/plain": [
       "                                            0\n",
       "Rating Count                     7.126755e-02\n",
       "Free                            -7.087864e-02\n",
       "Price                           -3.482351e-02\n",
       "Ad Supported                     2.448401e-01\n",
       "In App Purchases                 2.671795e-01\n",
       "Editors Choice                   4.188067e+09\n",
       "Category_Arcade                 -2.338640e+12\n",
       "Category_Books & Reference      -3.359478e+12\n",
       "Category_Business               -3.707695e+12\n",
       "Category_Casual                 -2.242421e+12\n",
       "Category_Communication          -2.189208e+12\n",
       "Category_Education              -4.741940e+12\n",
       "Category_Entertainment          -3.722215e+12\n",
       "Category_Finance                -2.412588e+12\n",
       "Category_Food & Drink           -2.696694e+12\n",
       "Category_Health & Fitness       -2.754784e+12\n",
       "Category_Lifestyle              -3.355352e+12\n",
       "Category_Music & Audio          -4.069730e+12\n",
       "Category_Personalization        -2.926014e+12\n",
       "Category_Productivity           -2.744326e+12\n",
       "Category_Puzzle                 -2.307056e+12\n",
       "Category_Shopping               -2.707361e+12\n",
       "Category_Social                 -2.274990e+12\n",
       "Category_Sports                 -2.168886e+12\n",
       "Category_Tools                  -3.733056e+12\n",
       "Category_Travel & Local         -2.598438e+12\n",
       "Category_other                  -5.941531e+12\n",
       "Content_Rating_Everyone         -4.184099e+12\n",
       "Content_Rating_Not for Everyone -4.184099e+12"
      ]
     },
     "execution_count": 29,
     "metadata": {},
     "output_type": "execute_result"
    }
   ],
   "source": [
    "pd.DataFrame(coef_col,X_train_col)"
   ]
  },
  {
   "cell_type": "markdown",
   "metadata": {},
   "source": [
    "We can see that only that only few of our columns are correlated to our target variable Rating. \n",
    "There is Rating counts, Ad Supported, In app purchases and Editors choices. "
   ]
  },
  {
   "cell_type": "markdown",
   "metadata": {},
   "source": [
    "### Decision Tree Regressor Model"
   ]
  },
  {
   "cell_type": "code",
   "execution_count": 46,
   "metadata": {},
   "outputs": [
    {
     "data": {
      "text/plain": [
       "0.9439536186586199"
      ]
     },
     "execution_count": 46,
     "metadata": {},
     "output_type": "execute_result"
    }
   ],
   "source": [
    "DTR_model = DecisionTreeRegressor(random_state = 1234, max_depth = 3)\n",
    "DTR_model.fit(X_train_s, y_train)\n",
    "DTR_model.score(X_train_s, y_train)"
   ]
  },
  {
   "cell_type": "code",
   "execution_count": 47,
   "metadata": {},
   "outputs": [
    {
     "data": {
      "text/plain": [
       "0.9471222271304011"
      ]
     },
     "execution_count": 47,
     "metadata": {},
     "output_type": "execute_result"
    }
   ],
   "source": [
    "DTR_model.score(X_test_s, y_test)"
   ]
  },
  {
   "cell_type": "markdown",
   "metadata": {},
   "source": [
    "We can see that this model is well fitted. \n",
    "We can plot the Decision Tree and see that different decision that the model has made. "
   ]
  },
  {
   "cell_type": "code",
   "execution_count": 48,
   "metadata": {},
   "outputs": [
    {
     "data": {
      "image/png": "[encoded data removed]",
      "text/plain": [
       "<Figure size 640x480 with 1 Axes>"
      ]
     },
     "metadata": {},
     "output_type": "display_data"
    }
   ],
   "source": [
    "from sklearn.tree import plot_tree\n",
    "plot_tree(DTR_model,\n",
    "            feature_names = list(X.columns),\n",
    "            rounded = True,\n",
    "            impurity = False,\n",
    "            filled = True);\n",
    "            "
   ]
  },
  {
   "cell_type": "markdown",
   "metadata": {},
   "source": [
    "A decision tree is a model that will make the best decision based on the features and will predict an outcome, in our situation it will predict the Rating. This tree represent the decision that the model made and we can see that the predictive feature is Rating Count, Category_other, Category_Tools and Rating Count. At the end of the each node represent the predicive Rating for the applications. "
   ]
  },
  {
   "cell_type": "markdown",
   "metadata": {},
   "source": [
    "CONCLUSION:  We can see that between our 2 models the Decision Tree Regressor is the best fit for our dataset with 94% of being predictive. While our Linera regression model score is very low also in the negative. We are now going to tuned our model with hyperparameters. "
   ]
  }
 ],
 "metadata": {
  "kernelspec": {
   "display_name": "plotly_bokeh",
   "language": "python",
   "name": "plotly_bokeh"
  },
  "language_info": {
   "codemirror_mode": {
    "name": "ipython",
    "version": 3
   },
   "file_extension": ".py",
   "mimetype": "text/x-python",
   "name": "python",
   "nbconvert_exporter": "python",
   "pygments_lexer": "ipython3",
   "version": "3.11.5"
  },
  "orig_nbformat": 4
 },
 "nbformat": 4,
 "nbformat_minor": 2
}
