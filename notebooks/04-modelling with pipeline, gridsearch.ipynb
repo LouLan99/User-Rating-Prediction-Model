{
 "cells": [
  {
   "cell_type": "code",
   "execution_count": 70,
   "metadata": {},
   "outputs": [],
   "source": [
    "import pandas as pd \n",
    "import numpy as np\n",
    "import matplotlib.pyplot as plt\n",
    "from sklearn import metrics\n",
    "from sklearn.model_selection import train_test_split\n",
    "from sklearn.linear_model import LinearRegression, Lasso\n",
    "from sklearn.preprocessing import StandardScaler\n",
    "from sklearn.tree import DecisionTreeRegressor\n",
    "from sklearn.pipeline import Pipeline\n",
    "from sklearn.model_selection import GridSearchCV\n",
    "from sklearn.decomposition import PCA\n",
    "from sklearn.metrics import mean_absolute_error, mean_squared_error, r2_score, mean_squared_log_error\n",
    "\n"
   ]
  },
  {
   "cell_type": "code",
   "execution_count": 71,
   "metadata": {},
   "outputs": [
    {
     "data": {
      "text/html": [
       "<div>\n",
       "<style scoped>\n",
       "    .dataframe tbody tr th:only-of-type {\n",
       "        vertical-align: middle;\n",
       "    }\n",
       "\n",
       "    .dataframe tbody tr th {\n",
       "        vertical-align: top;\n",
       "    }\n",
       "\n",
       "    .dataframe thead th {\n",
       "        text-align: right;\n",
       "    }\n",
       "</style>\n",
       "<table border=\"1\" class=\"dataframe\">\n",
       "  <thead>\n",
       "    <tr style=\"text-align: right;\">\n",
       "      <th></th>\n",
       "      <th>Rating</th>\n",
       "      <th>Rating Count</th>\n",
       "      <th>Free</th>\n",
       "      <th>Price</th>\n",
       "      <th>Ad Supported</th>\n",
       "      <th>In App Purchases</th>\n",
       "      <th>Editors Choice</th>\n",
       "      <th>Category_Arcade</th>\n",
       "      <th>Category_Books &amp; Reference</th>\n",
       "      <th>Category_Business</th>\n",
       "      <th>...</th>\n",
       "      <th>Category_Productivity</th>\n",
       "      <th>Category_Puzzle</th>\n",
       "      <th>Category_Shopping</th>\n",
       "      <th>Category_Social</th>\n",
       "      <th>Category_Sports</th>\n",
       "      <th>Category_Tools</th>\n",
       "      <th>Category_Travel &amp; Local</th>\n",
       "      <th>Category_other</th>\n",
       "      <th>Content_Rating_Everyone</th>\n",
       "      <th>Content_Rating_Not for Everyone</th>\n",
       "    </tr>\n",
       "  </thead>\n",
       "  <tbody>\n",
       "    <tr>\n",
       "      <th>0</th>\n",
       "      <td>3.9</td>\n",
       "      <td>68.0</td>\n",
       "      <td>1</td>\n",
       "      <td>0.0</td>\n",
       "      <td>0</td>\n",
       "      <td>0</td>\n",
       "      <td>0</td>\n",
       "      <td>0</td>\n",
       "      <td>0</td>\n",
       "      <td>0</td>\n",
       "      <td>...</td>\n",
       "      <td>0</td>\n",
       "      <td>0</td>\n",
       "      <td>0</td>\n",
       "      <td>0</td>\n",
       "      <td>0</td>\n",
       "      <td>0</td>\n",
       "      <td>0</td>\n",
       "      <td>0</td>\n",
       "      <td>1</td>\n",
       "      <td>0</td>\n",
       "    </tr>\n",
       "    <tr>\n",
       "      <th>1</th>\n",
       "      <td>0.0</td>\n",
       "      <td>0.0</td>\n",
       "      <td>1</td>\n",
       "      <td>0.0</td>\n",
       "      <td>0</td>\n",
       "      <td>0</td>\n",
       "      <td>0</td>\n",
       "      <td>0</td>\n",
       "      <td>0</td>\n",
       "      <td>0</td>\n",
       "      <td>...</td>\n",
       "      <td>0</td>\n",
       "      <td>0</td>\n",
       "      <td>0</td>\n",
       "      <td>0</td>\n",
       "      <td>0</td>\n",
       "      <td>0</td>\n",
       "      <td>0</td>\n",
       "      <td>0</td>\n",
       "      <td>1</td>\n",
       "      <td>0</td>\n",
       "    </tr>\n",
       "    <tr>\n",
       "      <th>2</th>\n",
       "      <td>4.3</td>\n",
       "      <td>918.0</td>\n",
       "      <td>1</td>\n",
       "      <td>0.0</td>\n",
       "      <td>1</td>\n",
       "      <td>0</td>\n",
       "      <td>0</td>\n",
       "      <td>0</td>\n",
       "      <td>0</td>\n",
       "      <td>0</td>\n",
       "      <td>...</td>\n",
       "      <td>0</td>\n",
       "      <td>0</td>\n",
       "      <td>1</td>\n",
       "      <td>0</td>\n",
       "      <td>0</td>\n",
       "      <td>0</td>\n",
       "      <td>0</td>\n",
       "      <td>0</td>\n",
       "      <td>1</td>\n",
       "      <td>0</td>\n",
       "    </tr>\n",
       "    <tr>\n",
       "      <th>3</th>\n",
       "      <td>5.0</td>\n",
       "      <td>6.0</td>\n",
       "      <td>1</td>\n",
       "      <td>0.0</td>\n",
       "      <td>0</td>\n",
       "      <td>0</td>\n",
       "      <td>0</td>\n",
       "      <td>0</td>\n",
       "      <td>0</td>\n",
       "      <td>0</td>\n",
       "      <td>...</td>\n",
       "      <td>0</td>\n",
       "      <td>0</td>\n",
       "      <td>0</td>\n",
       "      <td>0</td>\n",
       "      <td>0</td>\n",
       "      <td>0</td>\n",
       "      <td>0</td>\n",
       "      <td>0</td>\n",
       "      <td>1</td>\n",
       "      <td>0</td>\n",
       "    </tr>\n",
       "    <tr>\n",
       "      <th>4</th>\n",
       "      <td>4.3</td>\n",
       "      <td>830.0</td>\n",
       "      <td>1</td>\n",
       "      <td>0.0</td>\n",
       "      <td>1</td>\n",
       "      <td>0</td>\n",
       "      <td>0</td>\n",
       "      <td>0</td>\n",
       "      <td>0</td>\n",
       "      <td>0</td>\n",
       "      <td>...</td>\n",
       "      <td>0</td>\n",
       "      <td>0</td>\n",
       "      <td>0</td>\n",
       "      <td>0</td>\n",
       "      <td>0</td>\n",
       "      <td>0</td>\n",
       "      <td>0</td>\n",
       "      <td>0</td>\n",
       "      <td>1</td>\n",
       "      <td>0</td>\n",
       "    </tr>\n",
       "    <tr>\n",
       "      <th>...</th>\n",
       "      <td>...</td>\n",
       "      <td>...</td>\n",
       "      <td>...</td>\n",
       "      <td>...</td>\n",
       "      <td>...</td>\n",
       "      <td>...</td>\n",
       "      <td>...</td>\n",
       "      <td>...</td>\n",
       "      <td>...</td>\n",
       "      <td>...</td>\n",
       "      <td>...</td>\n",
       "      <td>...</td>\n",
       "      <td>...</td>\n",
       "      <td>...</td>\n",
       "      <td>...</td>\n",
       "      <td>...</td>\n",
       "      <td>...</td>\n",
       "      <td>...</td>\n",
       "      <td>...</td>\n",
       "      <td>...</td>\n",
       "      <td>...</td>\n",
       "    </tr>\n",
       "    <tr>\n",
       "      <th>9658</th>\n",
       "      <td>0.0</td>\n",
       "      <td>0.0</td>\n",
       "      <td>1</td>\n",
       "      <td>0.0</td>\n",
       "      <td>0</td>\n",
       "      <td>0</td>\n",
       "      <td>0</td>\n",
       "      <td>0</td>\n",
       "      <td>0</td>\n",
       "      <td>0</td>\n",
       "      <td>...</td>\n",
       "      <td>0</td>\n",
       "      <td>0</td>\n",
       "      <td>0</td>\n",
       "      <td>0</td>\n",
       "      <td>0</td>\n",
       "      <td>0</td>\n",
       "      <td>0</td>\n",
       "      <td>1</td>\n",
       "      <td>1</td>\n",
       "      <td>0</td>\n",
       "    </tr>\n",
       "    <tr>\n",
       "      <th>9659</th>\n",
       "      <td>4.3</td>\n",
       "      <td>142.0</td>\n",
       "      <td>1</td>\n",
       "      <td>0.0</td>\n",
       "      <td>0</td>\n",
       "      <td>0</td>\n",
       "      <td>0</td>\n",
       "      <td>0</td>\n",
       "      <td>0</td>\n",
       "      <td>0</td>\n",
       "      <td>...</td>\n",
       "      <td>0</td>\n",
       "      <td>0</td>\n",
       "      <td>0</td>\n",
       "      <td>0</td>\n",
       "      <td>0</td>\n",
       "      <td>0</td>\n",
       "      <td>0</td>\n",
       "      <td>0</td>\n",
       "      <td>1</td>\n",
       "      <td>0</td>\n",
       "    </tr>\n",
       "    <tr>\n",
       "      <th>9660</th>\n",
       "      <td>5.0</td>\n",
       "      <td>9.0</td>\n",
       "      <td>1</td>\n",
       "      <td>0.0</td>\n",
       "      <td>1</td>\n",
       "      <td>0</td>\n",
       "      <td>0</td>\n",
       "      <td>0</td>\n",
       "      <td>0</td>\n",
       "      <td>0</td>\n",
       "      <td>...</td>\n",
       "      <td>0</td>\n",
       "      <td>0</td>\n",
       "      <td>0</td>\n",
       "      <td>0</td>\n",
       "      <td>0</td>\n",
       "      <td>0</td>\n",
       "      <td>0</td>\n",
       "      <td>0</td>\n",
       "      <td>0</td>\n",
       "      <td>1</td>\n",
       "    </tr>\n",
       "    <tr>\n",
       "      <th>9661</th>\n",
       "      <td>0.0</td>\n",
       "      <td>0.0</td>\n",
       "      <td>1</td>\n",
       "      <td>0.0</td>\n",
       "      <td>1</td>\n",
       "      <td>0</td>\n",
       "      <td>0</td>\n",
       "      <td>0</td>\n",
       "      <td>0</td>\n",
       "      <td>0</td>\n",
       "      <td>...</td>\n",
       "      <td>0</td>\n",
       "      <td>0</td>\n",
       "      <td>0</td>\n",
       "      <td>0</td>\n",
       "      <td>0</td>\n",
       "      <td>0</td>\n",
       "      <td>0</td>\n",
       "      <td>0</td>\n",
       "      <td>1</td>\n",
       "      <td>0</td>\n",
       "    </tr>\n",
       "    <tr>\n",
       "      <th>9662</th>\n",
       "      <td>4.9</td>\n",
       "      <td>19.0</td>\n",
       "      <td>1</td>\n",
       "      <td>0.0</td>\n",
       "      <td>1</td>\n",
       "      <td>0</td>\n",
       "      <td>0</td>\n",
       "      <td>0</td>\n",
       "      <td>0</td>\n",
       "      <td>0</td>\n",
       "      <td>...</td>\n",
       "      <td>0</td>\n",
       "      <td>0</td>\n",
       "      <td>0</td>\n",
       "      <td>0</td>\n",
       "      <td>0</td>\n",
       "      <td>0</td>\n",
       "      <td>0</td>\n",
       "      <td>0</td>\n",
       "      <td>1</td>\n",
       "      <td>0</td>\n",
       "    </tr>\n",
       "  </tbody>\n",
       "</table>\n",
       "<p>9663 rows × 30 columns</p>\n",
       "</div>"
      ],
      "text/plain": [
       "      Rating  Rating Count  Free  Price  Ad Supported  In App Purchases  \\\n",
       "0        3.9          68.0     1    0.0             0                 0   \n",
       "1        0.0           0.0     1    0.0             0                 0   \n",
       "2        4.3         918.0     1    0.0             1                 0   \n",
       "3        5.0           6.0     1    0.0             0                 0   \n",
       "4        4.3         830.0     1    0.0             1                 0   \n",
       "...      ...           ...   ...    ...           ...               ...   \n",
       "9658     0.0           0.0     1    0.0             0                 0   \n",
       "9659     4.3         142.0     1    0.0             0                 0   \n",
       "9660     5.0           9.0     1    0.0             1                 0   \n",
       "9661     0.0           0.0     1    0.0             1                 0   \n",
       "9662     4.9          19.0     1    0.0             1                 0   \n",
       "\n",
       "      Editors Choice  Category_Arcade  Category_Books & Reference  \\\n",
       "0                  0                0                           0   \n",
       "1                  0                0                           0   \n",
       "2                  0                0                           0   \n",
       "3                  0                0                           0   \n",
       "4                  0                0                           0   \n",
       "...              ...              ...                         ...   \n",
       "9658               0                0                           0   \n",
       "9659               0                0                           0   \n",
       "9660               0                0                           0   \n",
       "9661               0                0                           0   \n",
       "9662               0                0                           0   \n",
       "\n",
       "      Category_Business  ...  Category_Productivity  Category_Puzzle  \\\n",
       "0                     0  ...                      0                0   \n",
       "1                     0  ...                      0                0   \n",
       "2                     0  ...                      0                0   \n",
       "3                     0  ...                      0                0   \n",
       "4                     0  ...                      0                0   \n",
       "...                 ...  ...                    ...              ...   \n",
       "9658                  0  ...                      0                0   \n",
       "9659                  0  ...                      0                0   \n",
       "9660                  0  ...                      0                0   \n",
       "9661                  0  ...                      0                0   \n",
       "9662                  0  ...                      0                0   \n",
       "\n",
       "      Category_Shopping  Category_Social  Category_Sports  Category_Tools  \\\n",
       "0                     0                0                0               0   \n",
       "1                     0                0                0               0   \n",
       "2                     1                0                0               0   \n",
       "3                     0                0                0               0   \n",
       "4                     0                0                0               0   \n",
       "...                 ...              ...              ...             ...   \n",
       "9658                  0                0                0               0   \n",
       "9659                  0                0                0               0   \n",
       "9660                  0                0                0               0   \n",
       "9661                  0                0                0               0   \n",
       "9662                  0                0                0               0   \n",
       "\n",
       "      Category_Travel & Local  Category_other  Content_Rating_Everyone  \\\n",
       "0                           0               0                        1   \n",
       "1                           0               0                        1   \n",
       "2                           0               0                        1   \n",
       "3                           0               0                        1   \n",
       "4                           0               0                        1   \n",
       "...                       ...             ...                      ...   \n",
       "9658                        0               1                        1   \n",
       "9659                        0               0                        1   \n",
       "9660                        0               0                        0   \n",
       "9661                        0               0                        1   \n",
       "9662                        0               0                        1   \n",
       "\n",
       "      Content_Rating_Not for Everyone  \n",
       "0                                   0  \n",
       "1                                   0  \n",
       "2                                   0  \n",
       "3                                   0  \n",
       "4                                   0  \n",
       "...                               ...  \n",
       "9658                                0  \n",
       "9659                                0  \n",
       "9660                                1  \n",
       "9661                                0  \n",
       "9662                                0  \n",
       "\n",
       "[9663 rows x 30 columns]"
      ]
     },
     "execution_count": 71,
     "metadata": {},
     "output_type": "execute_result"
    }
   ],
   "source": [
    "df_modeling = pd.read_csv(filepath_or_buffer= \"../data/Dataset_for_modeling.csv\") \n",
    "df_modeling"
   ]
  },
  {
   "attachments": {},
   "cell_type": "markdown",
   "metadata": {},
   "source": [
    "### Train-Test-Split"
   ]
  },
  {
   "cell_type": "code",
   "execution_count": 72,
   "metadata": {},
   "outputs": [],
   "source": [
    "X = df_modeling.drop(columns= 'Rating')\n",
    "y = df_modeling['Rating']"
   ]
  },
  {
   "cell_type": "code",
   "execution_count": 73,
   "metadata": {},
   "outputs": [
    {
     "data": {
      "text/plain": [
       "(9663, 29)"
      ]
     },
     "execution_count": 73,
     "metadata": {},
     "output_type": "execute_result"
    }
   ],
   "source": [
    "X.shape"
   ]
  },
  {
   "cell_type": "code",
   "execution_count": 74,
   "metadata": {},
   "outputs": [
    {
     "data": {
      "text/plain": [
       "(9663,)"
      ]
     },
     "execution_count": 74,
     "metadata": {},
     "output_type": "execute_result"
    }
   ],
   "source": [
    "y.shape"
   ]
  },
  {
   "cell_type": "code",
   "execution_count": 75,
   "metadata": {},
   "outputs": [],
   "source": [
    "X_train, X_test, y_train, y_test = train_test_split (X, y, test_size= 0.2, random_state = 1234)"
   ]
  },
  {
   "cell_type": "code",
   "execution_count": 96,
   "metadata": {},
   "outputs": [
    {
     "name": "stdout",
     "output_type": "stream",
     "text": [
      "Fitting 5 folds for each of 27 candidates, totalling 135 fits\n",
      "[CV] END model__max_depth=10, model__min_samples_leaf=1, model__min_samples_split=2; total time=   0.0s\n",
      "[CV] END model__max_depth=10, model__min_samples_leaf=1, model__min_samples_split=2; total time=   0.0s\n"
     ]
    },
    {
     "name": "stdout",
     "output_type": "stream",
     "text": [
      "[CV] END model__max_depth=10, model__min_samples_leaf=1, model__min_samples_split=2; total time=   0.0s\n",
      "[CV] END model__max_depth=10, model__min_samples_leaf=1, model__min_samples_split=2; total time=   0.0s\n",
      "[CV] END model__max_depth=10, model__min_samples_leaf=1, model__min_samples_split=2; total time=   0.0s\n",
      "[CV] END model__max_depth=10, model__min_samples_leaf=1, model__min_samples_split=5; total time=   0.0s\n",
      "[CV] END model__max_depth=10, model__min_samples_leaf=1, model__min_samples_split=5; total time=   0.0s\n",
      "[CV] END model__max_depth=10, model__min_samples_leaf=1, model__min_samples_split=5; total time=   0.0s\n",
      "[CV] END model__max_depth=10, model__min_samples_leaf=1, model__min_samples_split=5; total time=   0.0s\n",
      "[CV] END model__max_depth=10, model__min_samples_leaf=1, model__min_samples_split=5; total time=   0.0s\n",
      "[CV] END model__max_depth=10, model__min_samples_leaf=1, model__min_samples_split=10; total time=   0.0s\n",
      "[CV] END model__max_depth=10, model__min_samples_leaf=1, model__min_samples_split=10; total time=   0.0s\n",
      "[CV] END model__max_depth=10, model__min_samples_leaf=1, model__min_samples_split=10; total time=   0.0s\n",
      "[CV] END model__max_depth=10, model__min_samples_leaf=1, model__min_samples_split=10; total time=   0.0s\n",
      "[CV] END model__max_depth=10, model__min_samples_leaf=1, model__min_samples_split=10; total time=   0.0s\n",
      "[CV] END model__max_depth=10, model__min_samples_leaf=2, model__min_samples_split=2; total time=   0.0s\n",
      "[CV] END model__max_depth=10, model__min_samples_leaf=2, model__min_samples_split=2; total time=   0.0s\n",
      "[CV] END model__max_depth=10, model__min_samples_leaf=2, model__min_samples_split=2; total time=   0.0s\n",
      "[CV] END model__max_depth=10, model__min_samples_leaf=2, model__min_samples_split=2; total time=   0.0s\n",
      "[CV] END model__max_depth=10, model__min_samples_leaf=2, model__min_samples_split=2; total time=   0.0s\n",
      "[CV] END model__max_depth=10, model__min_samples_leaf=2, model__min_samples_split=5; total time=   0.0s\n",
      "[CV] END model__max_depth=10, model__min_samples_leaf=2, model__min_samples_split=5; total time=   0.0s\n",
      "[CV] END model__max_depth=10, model__min_samples_leaf=2, model__min_samples_split=5; total time=   0.0s\n",
      "[CV] END model__max_depth=10, model__min_samples_leaf=2, model__min_samples_split=5; total time=   0.0s\n",
      "[CV] END model__max_depth=10, model__min_samples_leaf=2, model__min_samples_split=5; total time=   0.0s\n",
      "[CV] END model__max_depth=10, model__min_samples_leaf=2, model__min_samples_split=10; total time=   0.0s\n",
      "[CV] END model__max_depth=10, model__min_samples_leaf=2, model__min_samples_split=10; total time=   0.0s\n",
      "[CV] END model__max_depth=10, model__min_samples_leaf=2, model__min_samples_split=10; total time=   0.0s\n",
      "[CV] END model__max_depth=10, model__min_samples_leaf=2, model__min_samples_split=10; total time=   0.0s\n",
      "[CV] END model__max_depth=10, model__min_samples_leaf=2, model__min_samples_split=10; total time=   0.0s\n",
      "[CV] END model__max_depth=10, model__min_samples_leaf=4, model__min_samples_split=2; total time=   0.0s\n",
      "[CV] END model__max_depth=10, model__min_samples_leaf=4, model__min_samples_split=2; total time=   0.0s\n",
      "[CV] END model__max_depth=10, model__min_samples_leaf=4, model__min_samples_split=2; total time=   0.0s\n",
      "[CV] END model__max_depth=10, model__min_samples_leaf=4, model__min_samples_split=2; total time=   0.0s\n",
      "[CV] END model__max_depth=10, model__min_samples_leaf=4, model__min_samples_split=2; total time=   0.0s\n",
      "[CV] END model__max_depth=10, model__min_samples_leaf=4, model__min_samples_split=5; total time=   0.0s\n",
      "[CV] END model__max_depth=10, model__min_samples_leaf=4, model__min_samples_split=5; total time=   0.0s\n",
      "[CV] END model__max_depth=10, model__min_samples_leaf=4, model__min_samples_split=5; total time=   0.0s\n",
      "[CV] END model__max_depth=10, model__min_samples_leaf=4, model__min_samples_split=5; total time=   0.0s\n",
      "[CV] END model__max_depth=10, model__min_samples_leaf=4, model__min_samples_split=5; total time=   0.0s\n",
      "[CV] END model__max_depth=10, model__min_samples_leaf=4, model__min_samples_split=10; total time=   0.0s\n",
      "[CV] END model__max_depth=10, model__min_samples_leaf=4, model__min_samples_split=10; total time=   0.0s\n",
      "[CV] END model__max_depth=10, model__min_samples_leaf=4, model__min_samples_split=10; total time=   0.0s\n",
      "[CV] END model__max_depth=10, model__min_samples_leaf=4, model__min_samples_split=10; total time=   0.0s\n",
      "[CV] END model__max_depth=10, model__min_samples_leaf=4, model__min_samples_split=10; total time=   0.0s\n",
      "[CV] END model__max_depth=20, model__min_samples_leaf=1, model__min_samples_split=2; total time=   0.0s\n",
      "[CV] END model__max_depth=20, model__min_samples_leaf=1, model__min_samples_split=2; total time=   0.0s\n",
      "[CV] END model__max_depth=20, model__min_samples_leaf=1, model__min_samples_split=2; total time=   0.1s\n",
      "[CV] END model__max_depth=20, model__min_samples_leaf=1, model__min_samples_split=2; total time=   0.0s\n",
      "[CV] END model__max_depth=20, model__min_samples_leaf=1, model__min_samples_split=2; total time=   0.0s\n",
      "[CV] END model__max_depth=20, model__min_samples_leaf=1, model__min_samples_split=5; total time=   0.0s\n",
      "[CV] END model__max_depth=20, model__min_samples_leaf=1, model__min_samples_split=5; total time=   0.0s\n",
      "[CV] END model__max_depth=20, model__min_samples_leaf=1, model__min_samples_split=5; total time=   0.0s\n",
      "[CV] END model__max_depth=20, model__min_samples_leaf=1, model__min_samples_split=5; total time=   0.0s\n",
      "[CV] END model__max_depth=20, model__min_samples_leaf=1, model__min_samples_split=5; total time=   0.0s\n",
      "[CV] END model__max_depth=20, model__min_samples_leaf=1, model__min_samples_split=10; total time=   0.0s\n",
      "[CV] END model__max_depth=20, model__min_samples_leaf=1, model__min_samples_split=10; total time=   0.0s\n",
      "[CV] END model__max_depth=20, model__min_samples_leaf=1, model__min_samples_split=10; total time=   0.0s\n",
      "[CV] END model__max_depth=20, model__min_samples_leaf=1, model__min_samples_split=10; total time=   0.0s\n",
      "[CV] END model__max_depth=20, model__min_samples_leaf=1, model__min_samples_split=10; total time=   0.0s\n",
      "[CV] END model__max_depth=20, model__min_samples_leaf=2, model__min_samples_split=2; total time=   0.0s\n",
      "[CV] END model__max_depth=20, model__min_samples_leaf=2, model__min_samples_split=2; total time=   0.0s\n",
      "[CV] END model__max_depth=20, model__min_samples_leaf=2, model__min_samples_split=2; total time=   0.0s\n",
      "[CV] END model__max_depth=20, model__min_samples_leaf=2, model__min_samples_split=2; total time=   0.0s\n",
      "[CV] END model__max_depth=20, model__min_samples_leaf=2, model__min_samples_split=2; total time=   0.0s\n",
      "[CV] END model__max_depth=20, model__min_samples_leaf=2, model__min_samples_split=5; total time=   0.0s\n",
      "[CV] END model__max_depth=20, model__min_samples_leaf=2, model__min_samples_split=5; total time=   0.0s\n",
      "[CV] END model__max_depth=20, model__min_samples_leaf=2, model__min_samples_split=5; total time=   0.0s\n",
      "[CV] END model__max_depth=20, model__min_samples_leaf=2, model__min_samples_split=5; total time=   0.0s\n",
      "[CV] END model__max_depth=20, model__min_samples_leaf=2, model__min_samples_split=5; total time=   0.0s\n",
      "[CV] END model__max_depth=20, model__min_samples_leaf=2, model__min_samples_split=10; total time=   0.0s\n",
      "[CV] END model__max_depth=20, model__min_samples_leaf=2, model__min_samples_split=10; total time=   0.0s\n",
      "[CV] END model__max_depth=20, model__min_samples_leaf=2, model__min_samples_split=10; total time=   0.0s\n",
      "[CV] END model__max_depth=20, model__min_samples_leaf=2, model__min_samples_split=10; total time=   0.0s\n",
      "[CV] END model__max_depth=20, model__min_samples_leaf=2, model__min_samples_split=10; total time=   0.0s\n",
      "[CV] END model__max_depth=20, model__min_samples_leaf=4, model__min_samples_split=2; total time=   0.0s\n",
      "[CV] END model__max_depth=20, model__min_samples_leaf=4, model__min_samples_split=2; total time=   0.0s\n",
      "[CV] END model__max_depth=20, model__min_samples_leaf=4, model__min_samples_split=2; total time=   0.0s\n",
      "[CV] END model__max_depth=20, model__min_samples_leaf=4, model__min_samples_split=2; total time=   0.0s\n",
      "[CV] END model__max_depth=20, model__min_samples_leaf=4, model__min_samples_split=2; total time=   0.0s\n",
      "[CV] END model__max_depth=20, model__min_samples_leaf=4, model__min_samples_split=5; total time=   0.1s\n",
      "[CV] END model__max_depth=20, model__min_samples_leaf=4, model__min_samples_split=5; total time=   0.0s\n",
      "[CV] END model__max_depth=20, model__min_samples_leaf=4, model__min_samples_split=5; total time=   0.0s\n",
      "[CV] END model__max_depth=20, model__min_samples_leaf=4, model__min_samples_split=5; total time=   0.0s\n",
      "[CV] END model__max_depth=20, model__min_samples_leaf=4, model__min_samples_split=5; total time=   0.0s\n",
      "[CV] END model__max_depth=20, model__min_samples_leaf=4, model__min_samples_split=10; total time=   0.0s\n",
      "[CV] END model__max_depth=20, model__min_samples_leaf=4, model__min_samples_split=10; total time=   0.0s\n",
      "[CV] END model__max_depth=20, model__min_samples_leaf=4, model__min_samples_split=10; total time=   0.0s\n",
      "[CV] END model__max_depth=20, model__min_samples_leaf=4, model__min_samples_split=10; total time=   0.0s\n",
      "[CV] END model__max_depth=20, model__min_samples_leaf=4, model__min_samples_split=10; total time=   0.0s\n",
      "[CV] END model__max_depth=30, model__min_samples_leaf=1, model__min_samples_split=2; total time=   0.0s\n",
      "[CV] END model__max_depth=30, model__min_samples_leaf=1, model__min_samples_split=2; total time=   0.0s\n",
      "[CV] END model__max_depth=30, model__min_samples_leaf=1, model__min_samples_split=2; total time=   0.0s\n",
      "[CV] END model__max_depth=30, model__min_samples_leaf=1, model__min_samples_split=2; total time=   0.0s\n",
      "[CV] END model__max_depth=30, model__min_samples_leaf=1, model__min_samples_split=2; total time=   0.0s\n",
      "[CV] END model__max_depth=30, model__min_samples_leaf=1, model__min_samples_split=5; total time=   0.0s\n",
      "[CV] END model__max_depth=30, model__min_samples_leaf=1, model__min_samples_split=5; total time=   0.0s\n",
      "[CV] END model__max_depth=30, model__min_samples_leaf=1, model__min_samples_split=5; total time=   0.0s\n",
      "[CV] END model__max_depth=30, model__min_samples_leaf=1, model__min_samples_split=5; total time=   0.0s\n",
      "[CV] END model__max_depth=30, model__min_samples_leaf=1, model__min_samples_split=5; total time=   0.0s\n",
      "[CV] END model__max_depth=30, model__min_samples_leaf=1, model__min_samples_split=10; total time=   0.0s\n",
      "[CV] END model__max_depth=30, model__min_samples_leaf=1, model__min_samples_split=10; total time=   0.0s\n",
      "[CV] END model__max_depth=30, model__min_samples_leaf=1, model__min_samples_split=10; total time=   0.0s\n",
      "[CV] END model__max_depth=30, model__min_samples_leaf=1, model__min_samples_split=10; total time=   0.0s\n",
      "[CV] END model__max_depth=30, model__min_samples_leaf=1, model__min_samples_split=10; total time=   0.0s\n",
      "[CV] END model__max_depth=30, model__min_samples_leaf=2, model__min_samples_split=2; total time=   0.0s\n",
      "[CV] END model__max_depth=30, model__min_samples_leaf=2, model__min_samples_split=2; total time=   0.0s\n",
      "[CV] END model__max_depth=30, model__min_samples_leaf=2, model__min_samples_split=2; total time=   0.0s\n",
      "[CV] END model__max_depth=30, model__min_samples_leaf=2, model__min_samples_split=2; total time=   0.0s\n",
      "[CV] END model__max_depth=30, model__min_samples_leaf=2, model__min_samples_split=2; total time=   0.0s\n",
      "[CV] END model__max_depth=30, model__min_samples_leaf=2, model__min_samples_split=5; total time=   0.0s\n",
      "[CV] END model__max_depth=30, model__min_samples_leaf=2, model__min_samples_split=5; total time=   0.0s\n",
      "[CV] END model__max_depth=30, model__min_samples_leaf=2, model__min_samples_split=5; total time=   0.0s\n",
      "[CV] END model__max_depth=30, model__min_samples_leaf=2, model__min_samples_split=5; total time=   0.0s\n",
      "[CV] END model__max_depth=30, model__min_samples_leaf=2, model__min_samples_split=5; total time=   0.0s\n",
      "[CV] END model__max_depth=30, model__min_samples_leaf=2, model__min_samples_split=10; total time=   0.0s\n",
      "[CV] END model__max_depth=30, model__min_samples_leaf=2, model__min_samples_split=10; total time=   0.0s\n",
      "[CV] END model__max_depth=30, model__min_samples_leaf=2, model__min_samples_split=10; total time=   0.0s\n",
      "[CV] END model__max_depth=30, model__min_samples_leaf=2, model__min_samples_split=10; total time=   0.0s\n",
      "[CV] END model__max_depth=30, model__min_samples_leaf=2, model__min_samples_split=10; total time=   0.0s\n",
      "[CV] END model__max_depth=30, model__min_samples_leaf=4, model__min_samples_split=2; total time=   0.0s\n",
      "[CV] END model__max_depth=30, model__min_samples_leaf=4, model__min_samples_split=2; total time=   0.0s\n",
      "[CV] END model__max_depth=30, model__min_samples_leaf=4, model__min_samples_split=2; total time=   0.0s\n",
      "[CV] END model__max_depth=30, model__min_samples_leaf=4, model__min_samples_split=2; total time=   0.0s\n",
      "[CV] END model__max_depth=30, model__min_samples_leaf=4, model__min_samples_split=2; total time=   0.0s\n",
      "[CV] END model__max_depth=30, model__min_samples_leaf=4, model__min_samples_split=5; total time=   0.0s\n",
      "[CV] END model__max_depth=30, model__min_samples_leaf=4, model__min_samples_split=5; total time=   0.0s\n",
      "[CV] END model__max_depth=30, model__min_samples_leaf=4, model__min_samples_split=5; total time=   0.0s\n",
      "[CV] END model__max_depth=30, model__min_samples_leaf=4, model__min_samples_split=5; total time=   0.0s\n",
      "[CV] END model__max_depth=30, model__min_samples_leaf=4, model__min_samples_split=5; total time=   0.0s\n",
      "[CV] END model__max_depth=30, model__min_samples_leaf=4, model__min_samples_split=10; total time=   0.0s\n",
      "[CV] END model__max_depth=30, model__min_samples_leaf=4, model__min_samples_split=10; total time=   0.0s\n",
      "[CV] END model__max_depth=30, model__min_samples_leaf=4, model__min_samples_split=10; total time=   0.0s\n",
      "[CV] END model__max_depth=30, model__min_samples_leaf=4, model__min_samples_split=10; total time=   0.0s\n",
      "[CV] END model__max_depth=30, model__min_samples_leaf=4, model__min_samples_split=10; total time=   0.0s\n"
     ]
    },
    {
     "data": {
      "text/html": [
       "<style>#sk-container-id-16 {color: black;}#sk-container-id-16 pre{padding: 0;}#sk-container-id-16 div.sk-toggleable {background-color: white;}#sk-container-id-16 label.sk-toggleable__label {cursor: pointer;display: block;width: 100%;margin-bottom: 0;padding: 0.3em;box-sizing: border-box;text-align: center;}#sk-container-id-16 label.sk-toggleable__label-arrow:before {content: \"▸\";float: left;margin-right: 0.25em;color: #696969;}#sk-container-id-16 label.sk-toggleable__label-arrow:hover:before {color: black;}#sk-container-id-16 div.sk-estimator:hover label.sk-toggleable__label-arrow:before {color: black;}#sk-container-id-16 div.sk-toggleable__content {max-height: 0;max-width: 0;overflow: hidden;text-align: left;background-color: #f0f8ff;}#sk-container-id-16 div.sk-toggleable__content pre {margin: 0.2em;color: black;border-radius: 0.25em;background-color: #f0f8ff;}#sk-container-id-16 input.sk-toggleable__control:checked~div.sk-toggleable__content {max-height: 200px;max-width: 100%;overflow: auto;}#sk-container-id-16 input.sk-toggleable__control:checked~label.sk-toggleable__label-arrow:before {content: \"▾\";}#sk-container-id-16 div.sk-estimator input.sk-toggleable__control:checked~label.sk-toggleable__label {background-color: #d4ebff;}#sk-container-id-16 div.sk-label input.sk-toggleable__control:checked~label.sk-toggleable__label {background-color: #d4ebff;}#sk-container-id-16 input.sk-hidden--visually {border: 0;clip: rect(1px 1px 1px 1px);clip: rect(1px, 1px, 1px, 1px);height: 1px;margin: -1px;overflow: hidden;padding: 0;position: absolute;width: 1px;}#sk-container-id-16 div.sk-estimator {font-family: monospace;background-color: #f0f8ff;border: 1px dotted black;border-radius: 0.25em;box-sizing: border-box;margin-bottom: 0.5em;}#sk-container-id-16 div.sk-estimator:hover {background-color: #d4ebff;}#sk-container-id-16 div.sk-parallel-item::after {content: \"\";width: 100%;border-bottom: 1px solid gray;flex-grow: 1;}#sk-container-id-16 div.sk-label:hover label.sk-toggleable__label {background-color: #d4ebff;}#sk-container-id-16 div.sk-serial::before {content: \"\";position: absolute;border-left: 1px solid gray;box-sizing: border-box;top: 0;bottom: 0;left: 50%;z-index: 0;}#sk-container-id-16 div.sk-serial {display: flex;flex-direction: column;align-items: center;background-color: white;padding-right: 0.2em;padding-left: 0.2em;position: relative;}#sk-container-id-16 div.sk-item {position: relative;z-index: 1;}#sk-container-id-16 div.sk-parallel {display: flex;align-items: stretch;justify-content: center;background-color: white;position: relative;}#sk-container-id-16 div.sk-item::before, #sk-container-id-16 div.sk-parallel-item::before {content: \"\";position: absolute;border-left: 1px solid gray;box-sizing: border-box;top: 0;bottom: 0;left: 50%;z-index: -1;}#sk-container-id-16 div.sk-parallel-item {display: flex;flex-direction: column;z-index: 1;position: relative;background-color: white;}#sk-container-id-16 div.sk-parallel-item:first-child::after {align-self: flex-end;width: 50%;}#sk-container-id-16 div.sk-parallel-item:last-child::after {align-self: flex-start;width: 50%;}#sk-container-id-16 div.sk-parallel-item:only-child::after {width: 0;}#sk-container-id-16 div.sk-dashed-wrapped {border: 1px dashed gray;margin: 0 0.4em 0.5em 0.4em;box-sizing: border-box;padding-bottom: 0.4em;background-color: white;}#sk-container-id-16 div.sk-label label {font-family: monospace;font-weight: bold;display: inline-block;line-height: 1.2em;}#sk-container-id-16 div.sk-label-container {text-align: center;}#sk-container-id-16 div.sk-container {/* jupyter's `normalize.less` sets `[hidden] { display: none; }` but bootstrap.min.css set `[hidden] { display: none !important; }` so we also need the `!important` here to be able to override the default hidden behavior on the sphinx rendered scikit-learn.org. See: https://github.com/scikit-learn/scikit-learn/issues/21755 */display: inline-block !important;position: relative;}#sk-container-id-16 div.sk-text-repr-fallback {display: none;}</style><div id=\"sk-container-id-16\" class=\"sk-top-container\"><div class=\"sk-text-repr-fallback\"><pre>GridSearchCV(cv=5,\n",
       "             estimator=Pipeline(steps=[(&#x27;scaler&#x27;, StandardScaler()),\n",
       "                                       (&#x27;model&#x27;, DecisionTreeRegressor())]),\n",
       "             param_grid=[{&#x27;model__max_depth&#x27;: [10, 20, 30],\n",
       "                          &#x27;model__min_samples_leaf&#x27;: [1, 2, 4],\n",
       "                          &#x27;model__min_samples_split&#x27;: [2, 5, 10]}],\n",
       "             verbose=2)</pre><b>In a Jupyter environment, please rerun this cell to show the HTML representation or trust the notebook. <br />On GitHub, the HTML representation is unable to render, please try loading this page with nbviewer.org.</b></div><div class=\"sk-container\" hidden><div class=\"sk-item sk-dashed-wrapped\"><div class=\"sk-label-container\"><div class=\"sk-label sk-toggleable\"><input class=\"sk-toggleable__control sk-hidden--visually\" id=\"sk-estimator-id-70\" type=\"checkbox\" ><label for=\"sk-estimator-id-70\" class=\"sk-toggleable__label sk-toggleable__label-arrow\">GridSearchCV</label><div class=\"sk-toggleable__content\"><pre>GridSearchCV(cv=5,\n",
       "             estimator=Pipeline(steps=[(&#x27;scaler&#x27;, StandardScaler()),\n",
       "                                       (&#x27;model&#x27;, DecisionTreeRegressor())]),\n",
       "             param_grid=[{&#x27;model__max_depth&#x27;: [10, 20, 30],\n",
       "                          &#x27;model__min_samples_leaf&#x27;: [1, 2, 4],\n",
       "                          &#x27;model__min_samples_split&#x27;: [2, 5, 10]}],\n",
       "             verbose=2)</pre></div></div></div><div class=\"sk-parallel\"><div class=\"sk-parallel-item\"><div class=\"sk-item\"><div class=\"sk-label-container\"><div class=\"sk-label sk-toggleable\"><input class=\"sk-toggleable__control sk-hidden--visually\" id=\"sk-estimator-id-71\" type=\"checkbox\" ><label for=\"sk-estimator-id-71\" class=\"sk-toggleable__label sk-toggleable__label-arrow\">estimator: Pipeline</label><div class=\"sk-toggleable__content\"><pre>Pipeline(steps=[(&#x27;scaler&#x27;, StandardScaler()),\n",
       "                (&#x27;model&#x27;, DecisionTreeRegressor())])</pre></div></div></div><div class=\"sk-serial\"><div class=\"sk-item\"><div class=\"sk-serial\"><div class=\"sk-item\"><div class=\"sk-estimator sk-toggleable\"><input class=\"sk-toggleable__control sk-hidden--visually\" id=\"sk-estimator-id-72\" type=\"checkbox\" ><label for=\"sk-estimator-id-72\" class=\"sk-toggleable__label sk-toggleable__label-arrow\">StandardScaler</label><div class=\"sk-toggleable__content\"><pre>StandardScaler()</pre></div></div></div><div class=\"sk-item\"><div class=\"sk-estimator sk-toggleable\"><input class=\"sk-toggleable__control sk-hidden--visually\" id=\"sk-estimator-id-73\" type=\"checkbox\" ><label for=\"sk-estimator-id-73\" class=\"sk-toggleable__label sk-toggleable__label-arrow\">DecisionTreeRegressor</label><div class=\"sk-toggleable__content\"><pre>DecisionTreeRegressor()</pre></div></div></div></div></div></div></div></div></div></div></div></div>"
      ],
      "text/plain": [
       "GridSearchCV(cv=5,\n",
       "             estimator=Pipeline(steps=[('scaler', StandardScaler()),\n",
       "                                       ('model', DecisionTreeRegressor())]),\n",
       "             param_grid=[{'model__max_depth': [10, 20, 30],\n",
       "                          'model__min_samples_leaf': [1, 2, 4],\n",
       "                          'model__min_samples_split': [2, 5, 10]}],\n",
       "             verbose=2)"
      ]
     },
     "execution_count": 96,
     "metadata": {},
     "output_type": "execute_result"
    }
   ],
   "source": [
    "pipeline = Pipeline([\n",
    "    ('scaler', StandardScaler()),\n",
    "    ('model',DecisionTreeRegressor())\n",
    "])\n",
    "\n",
    "Params = [{\n",
    "        'model__max_depth' : [10, 20, 30],\n",
    "        'model__min_samples_split' :[2, 5, 10],\n",
    "        'model__min_samples_leaf': [1, 2, 4]}]\n",
    "\n",
    "grid_search = GridSearchCV(estimator=pipeline, param_grid=Params, cv=5, verbose = 2)\n",
    "grid_search.fit(X_train, y_train)\n"
   ]
  },
  {
   "cell_type": "code",
   "execution_count": 97,
   "metadata": {},
   "outputs": [
    {
     "name": "stdout",
     "output_type": "stream",
     "text": [
      "Best parameters are {'model__max_depth': 10, 'model__min_samples_leaf': 4, 'model__min_samples_split': 2} with a score of 0.94\n"
     ]
    }
   ],
   "source": [
    "print(\"Best parameters are %s with a score of %0.2f\"\n",
    "% (grid_search.best_params_, grid_search.best_score_))"
   ]
  },
  {
   "attachments": {},
   "cell_type": "markdown",
   "metadata": {},
   "source": [
    "We run the model withouth the pca. We can see that the model max_depth reach the minimum range (how deep the tree is) \n",
    "the model__min_samples_leaf reach the top range(minumum number of sample at the base of the tree)\n",
    "the model__min_sample_split reacht the top range(minimum number of samples required to split an internal node) \n",
    "We are going to rerun the model with different hyperparameters range and add pca. \n"
   ]
  },
  {
   "cell_type": "code",
   "execution_count": 98,
   "metadata": {},
   "outputs": [
    {
     "name": "stdout",
     "output_type": "stream",
     "text": [
      "Mean Absolute Error (MAE): 0.28116407173442576\n",
      "Root Mean Square Error (RMSE): 0.49714008797112774\n",
      "Coefficient of Determination (R-squared): 0.944296351983478\n",
      "Mean Squared Error (MSE): 0.24714826706794063\n",
      "Root Mean Squared Logarithmic Error (RMSLE): 0.10854781841700337\n"
     ]
    }
   ],
   "source": [
    "y_pred1 = grid_search.predict(X_test)\n",
    "\n",
    "mae = mean_absolute_error(y_test, y_pred1)\n",
    "rmse = np.sqrt(mean_squared_error(y_test, y_pred1))\n",
    "r2 = r2_score(y_test, y_pred1)\n",
    "mse = mean_squared_error(y_test, y_pred1)\n",
    "rmsle = np.sqrt(mean_squared_log_error(y_test, y_pred1))\n",
    "\n",
    "print(\"Mean Absolute Error (MAE):\", mae)\n",
    "print(\"Root Mean Square Error (RMSE):\", rmse)\n",
    "print(\"Coefficient of Determination (R-squared):\", r2)\n",
    "print(\"Mean Squared Error (MSE):\", mse)\n",
    "print(\"Root Mean Squared Logarithmic Error (RMSLE):\", rmsle)\n"
   ]
  },
  {
   "cell_type": "code",
   "execution_count": 99,
   "metadata": {},
   "outputs": [
    {
     "data": {
      "text/plain": [
       "0.944296351983478"
      ]
     },
     "execution_count": 99,
     "metadata": {},
     "output_type": "execute_result"
    }
   ],
   "source": [
    "grid_search.score(X_test, y_test)"
   ]
  },
  {
   "cell_type": "code",
   "execution_count": 102,
   "metadata": {},
   "outputs": [
    {
     "name": "stdout",
     "output_type": "stream",
     "text": [
      "Fitting 5 folds for each of 24 candidates, totalling 120 fits\n"
     ]
    },
    {
     "data": {
      "text/html": [
       "<style>#sk-container-id-17 {color: black;}#sk-container-id-17 pre{padding: 0;}#sk-container-id-17 div.sk-toggleable {background-color: white;}#sk-container-id-17 label.sk-toggleable__label {cursor: pointer;display: block;width: 100%;margin-bottom: 0;padding: 0.3em;box-sizing: border-box;text-align: center;}#sk-container-id-17 label.sk-toggleable__label-arrow:before {content: \"▸\";float: left;margin-right: 0.25em;color: #696969;}#sk-container-id-17 label.sk-toggleable__label-arrow:hover:before {color: black;}#sk-container-id-17 div.sk-estimator:hover label.sk-toggleable__label-arrow:before {color: black;}#sk-container-id-17 div.sk-toggleable__content {max-height: 0;max-width: 0;overflow: hidden;text-align: left;background-color: #f0f8ff;}#sk-container-id-17 div.sk-toggleable__content pre {margin: 0.2em;color: black;border-radius: 0.25em;background-color: #f0f8ff;}#sk-container-id-17 input.sk-toggleable__control:checked~div.sk-toggleable__content {max-height: 200px;max-width: 100%;overflow: auto;}#sk-container-id-17 input.sk-toggleable__control:checked~label.sk-toggleable__label-arrow:before {content: \"▾\";}#sk-container-id-17 div.sk-estimator input.sk-toggleable__control:checked~label.sk-toggleable__label {background-color: #d4ebff;}#sk-container-id-17 div.sk-label input.sk-toggleable__control:checked~label.sk-toggleable__label {background-color: #d4ebff;}#sk-container-id-17 input.sk-hidden--visually {border: 0;clip: rect(1px 1px 1px 1px);clip: rect(1px, 1px, 1px, 1px);height: 1px;margin: -1px;overflow: hidden;padding: 0;position: absolute;width: 1px;}#sk-container-id-17 div.sk-estimator {font-family: monospace;background-color: #f0f8ff;border: 1px dotted black;border-radius: 0.25em;box-sizing: border-box;margin-bottom: 0.5em;}#sk-container-id-17 div.sk-estimator:hover {background-color: #d4ebff;}#sk-container-id-17 div.sk-parallel-item::after {content: \"\";width: 100%;border-bottom: 1px solid gray;flex-grow: 1;}#sk-container-id-17 div.sk-label:hover label.sk-toggleable__label {background-color: #d4ebff;}#sk-container-id-17 div.sk-serial::before {content: \"\";position: absolute;border-left: 1px solid gray;box-sizing: border-box;top: 0;bottom: 0;left: 50%;z-index: 0;}#sk-container-id-17 div.sk-serial {display: flex;flex-direction: column;align-items: center;background-color: white;padding-right: 0.2em;padding-left: 0.2em;position: relative;}#sk-container-id-17 div.sk-item {position: relative;z-index: 1;}#sk-container-id-17 div.sk-parallel {display: flex;align-items: stretch;justify-content: center;background-color: white;position: relative;}#sk-container-id-17 div.sk-item::before, #sk-container-id-17 div.sk-parallel-item::before {content: \"\";position: absolute;border-left: 1px solid gray;box-sizing: border-box;top: 0;bottom: 0;left: 50%;z-index: -1;}#sk-container-id-17 div.sk-parallel-item {display: flex;flex-direction: column;z-index: 1;position: relative;background-color: white;}#sk-container-id-17 div.sk-parallel-item:first-child::after {align-self: flex-end;width: 50%;}#sk-container-id-17 div.sk-parallel-item:last-child::after {align-self: flex-start;width: 50%;}#sk-container-id-17 div.sk-parallel-item:only-child::after {width: 0;}#sk-container-id-17 div.sk-dashed-wrapped {border: 1px dashed gray;margin: 0 0.4em 0.5em 0.4em;box-sizing: border-box;padding-bottom: 0.4em;background-color: white;}#sk-container-id-17 div.sk-label label {font-family: monospace;font-weight: bold;display: inline-block;line-height: 1.2em;}#sk-container-id-17 div.sk-label-container {text-align: center;}#sk-container-id-17 div.sk-container {/* jupyter's `normalize.less` sets `[hidden] { display: none; }` but bootstrap.min.css set `[hidden] { display: none !important; }` so we also need the `!important` here to be able to override the default hidden behavior on the sphinx rendered scikit-learn.org. See: https://github.com/scikit-learn/scikit-learn/issues/21755 */display: inline-block !important;position: relative;}#sk-container-id-17 div.sk-text-repr-fallback {display: none;}</style><div id=\"sk-container-id-17\" class=\"sk-top-container\"><div class=\"sk-text-repr-fallback\"><pre>GridSearchCV(cv=5,\n",
       "             estimator=Pipeline(steps=[(&#x27;scaler&#x27;, StandardScaler()),\n",
       "                                       (&#x27;pca&#x27;, PCA()),\n",
       "                                       (&#x27;model&#x27;, DecisionTreeRegressor())]),\n",
       "             param_grid=[{&#x27;model__max_depth&#x27;: [2, 4, 6, 8],\n",
       "                          &#x27;model__min_samples_leaf&#x27;: [1, 2, 3],\n",
       "                          &#x27;model__min_samples_split&#x27;: [2, 4]}],\n",
       "             verbose=1)</pre><b>In a Jupyter environment, please rerun this cell to show the HTML representation or trust the notebook. <br />On GitHub, the HTML representation is unable to render, please try loading this page with nbviewer.org.</b></div><div class=\"sk-container\" hidden><div class=\"sk-item sk-dashed-wrapped\"><div class=\"sk-label-container\"><div class=\"sk-label sk-toggleable\"><input class=\"sk-toggleable__control sk-hidden--visually\" id=\"sk-estimator-id-74\" type=\"checkbox\" ><label for=\"sk-estimator-id-74\" class=\"sk-toggleable__label sk-toggleable__label-arrow\">GridSearchCV</label><div class=\"sk-toggleable__content\"><pre>GridSearchCV(cv=5,\n",
       "             estimator=Pipeline(steps=[(&#x27;scaler&#x27;, StandardScaler()),\n",
       "                                       (&#x27;pca&#x27;, PCA()),\n",
       "                                       (&#x27;model&#x27;, DecisionTreeRegressor())]),\n",
       "             param_grid=[{&#x27;model__max_depth&#x27;: [2, 4, 6, 8],\n",
       "                          &#x27;model__min_samples_leaf&#x27;: [1, 2, 3],\n",
       "                          &#x27;model__min_samples_split&#x27;: [2, 4]}],\n",
       "             verbose=1)</pre></div></div></div><div class=\"sk-parallel\"><div class=\"sk-parallel-item\"><div class=\"sk-item\"><div class=\"sk-label-container\"><div class=\"sk-label sk-toggleable\"><input class=\"sk-toggleable__control sk-hidden--visually\" id=\"sk-estimator-id-75\" type=\"checkbox\" ><label for=\"sk-estimator-id-75\" class=\"sk-toggleable__label sk-toggleable__label-arrow\">estimator: Pipeline</label><div class=\"sk-toggleable__content\"><pre>Pipeline(steps=[(&#x27;scaler&#x27;, StandardScaler()), (&#x27;pca&#x27;, PCA()),\n",
       "                (&#x27;model&#x27;, DecisionTreeRegressor())])</pre></div></div></div><div class=\"sk-serial\"><div class=\"sk-item\"><div class=\"sk-serial\"><div class=\"sk-item\"><div class=\"sk-estimator sk-toggleable\"><input class=\"sk-toggleable__control sk-hidden--visually\" id=\"sk-estimator-id-76\" type=\"checkbox\" ><label for=\"sk-estimator-id-76\" class=\"sk-toggleable__label sk-toggleable__label-arrow\">StandardScaler</label><div class=\"sk-toggleable__content\"><pre>StandardScaler()</pre></div></div></div><div class=\"sk-item\"><div class=\"sk-estimator sk-toggleable\"><input class=\"sk-toggleable__control sk-hidden--visually\" id=\"sk-estimator-id-77\" type=\"checkbox\" ><label for=\"sk-estimator-id-77\" class=\"sk-toggleable__label sk-toggleable__label-arrow\">PCA</label><div class=\"sk-toggleable__content\"><pre>PCA()</pre></div></div></div><div class=\"sk-item\"><div class=\"sk-estimator sk-toggleable\"><input class=\"sk-toggleable__control sk-hidden--visually\" id=\"sk-estimator-id-78\" type=\"checkbox\" ><label for=\"sk-estimator-id-78\" class=\"sk-toggleable__label sk-toggleable__label-arrow\">DecisionTreeRegressor</label><div class=\"sk-toggleable__content\"><pre>DecisionTreeRegressor()</pre></div></div></div></div></div></div></div></div></div></div></div></div>"
      ],
      "text/plain": [
       "GridSearchCV(cv=5,\n",
       "             estimator=Pipeline(steps=[('scaler', StandardScaler()),\n",
       "                                       ('pca', PCA()),\n",
       "                                       ('model', DecisionTreeRegressor())]),\n",
       "             param_grid=[{'model__max_depth': [2, 4, 6, 8],\n",
       "                          'model__min_samples_leaf': [1, 2, 3],\n",
       "                          'model__min_samples_split': [2, 4]}],\n",
       "             verbose=1)"
      ]
     },
     "execution_count": 102,
     "metadata": {},
     "output_type": "execute_result"
    }
   ],
   "source": [
    "pipeline = Pipeline([\n",
    "    ('scaler', StandardScaler()),\n",
    "    ('pca', PCA()),\n",
    "    ('model',DecisionTreeRegressor())\n",
    "])\n",
    "\n",
    "Params = [{\n",
    "        'model__max_depth' : [2, 4, 6, 8],\n",
    "        'model__min_samples_split' :[2, 4],\n",
    "        'model__min_samples_leaf': [1, 2, 3]}]\n",
    "\n",
    "grid_search = GridSearchCV(estimator=pipeline, param_grid=Params, cv=5, verbose = 1)\n",
    "grid_search.fit(X_train, y_train)"
   ]
  },
  {
   "cell_type": "code",
   "execution_count": 103,
   "metadata": {},
   "outputs": [
    {
     "name": "stdout",
     "output_type": "stream",
     "text": [
      "Best parameters are {'model__max_depth': 8, 'model__min_samples_leaf': 3, 'model__min_samples_split': 4} with a score of 0.55\n"
     ]
    }
   ],
   "source": [
    "print(\"Best parameters are %s with a score of %0.2f\"\n",
    "% (grid_search.best_params_, grid_search.best_score_))"
   ]
  },
  {
   "attachments": {},
   "cell_type": "markdown",
   "metadata": {},
   "source": [
    "For this model the max depth is only at 2 (the lowest range), the min samples leaf is at 6 (middle range) and the min samples split is at 10 (lowest range).\n"
   ]
  },
  {
   "cell_type": "code",
   "execution_count": 104,
   "metadata": {},
   "outputs": [
    {
     "name": "stdout",
     "output_type": "stream",
     "text": [
      "Mean Absolute Error (MAE): 0.7520138679864303\n",
      "Root Mean Square Error (RMSE): 1.2112844258753217\n",
      "Coefficient of Determination (R-squared): 0.6693120766401608\n",
      "Mean Squared Error (MSE): 1.4672099603681075\n",
      "Root Mean Squared Logarithmic Error (RMSLE): 0.4587136209608288\n"
     ]
    }
   ],
   "source": [
    "y_pred2 = grid_search.predict(X_test)\n",
    "\n",
    "mae = mean_absolute_error(y_test, y_pred2)\n",
    "rmse = np.sqrt(mean_squared_error(y_test, y_pred2))\n",
    "r2 = r2_score(y_test, y_pred2)\n",
    "mse = mean_squared_error(y_test, y_pred2)\n",
    "rmsle = np.sqrt(mean_squared_log_error(y_test, y_pred2))\n",
    "\n",
    "print(\"Mean Absolute Error (MAE):\", mae)\n",
    "print(\"Root Mean Square Error (RMSE):\", rmse)\n",
    "print(\"Coefficient of Determination (R-squared):\", r2)\n",
    "print(\"Mean Squared Error (MSE):\", mse)\n",
    "print(\"Root Mean Squared Logarithmic Error (RMSLE):\", rmsle)"
   ]
  },
  {
   "cell_type": "code",
   "execution_count": 105,
   "metadata": {},
   "outputs": [
    {
     "data": {
      "text/plain": [
       "0.6693120766401608"
      ]
     },
     "execution_count": 105,
     "metadata": {},
     "output_type": "execute_result"
    }
   ],
   "source": [
    "grid_search.score(X_test, y_test)"
   ]
  },
  {
   "cell_type": "code",
   "execution_count": 106,
   "metadata": {},
   "outputs": [
    {
     "name": "stdout",
     "output_type": "stream",
     "text": [
      "Fitting 5 folds for each of 3 candidates, totalling 15 fits\n"
     ]
    },
    {
     "data": {
      "text/html": [
       "<style>#sk-container-id-18 {color: black;}#sk-container-id-18 pre{padding: 0;}#sk-container-id-18 div.sk-toggleable {background-color: white;}#sk-container-id-18 label.sk-toggleable__label {cursor: pointer;display: block;width: 100%;margin-bottom: 0;padding: 0.3em;box-sizing: border-box;text-align: center;}#sk-container-id-18 label.sk-toggleable__label-arrow:before {content: \"▸\";float: left;margin-right: 0.25em;color: #696969;}#sk-container-id-18 label.sk-toggleable__label-arrow:hover:before {color: black;}#sk-container-id-18 div.sk-estimator:hover label.sk-toggleable__label-arrow:before {color: black;}#sk-container-id-18 div.sk-toggleable__content {max-height: 0;max-width: 0;overflow: hidden;text-align: left;background-color: #f0f8ff;}#sk-container-id-18 div.sk-toggleable__content pre {margin: 0.2em;color: black;border-radius: 0.25em;background-color: #f0f8ff;}#sk-container-id-18 input.sk-toggleable__control:checked~div.sk-toggleable__content {max-height: 200px;max-width: 100%;overflow: auto;}#sk-container-id-18 input.sk-toggleable__control:checked~label.sk-toggleable__label-arrow:before {content: \"▾\";}#sk-container-id-18 div.sk-estimator input.sk-toggleable__control:checked~label.sk-toggleable__label {background-color: #d4ebff;}#sk-container-id-18 div.sk-label input.sk-toggleable__control:checked~label.sk-toggleable__label {background-color: #d4ebff;}#sk-container-id-18 input.sk-hidden--visually {border: 0;clip: rect(1px 1px 1px 1px);clip: rect(1px, 1px, 1px, 1px);height: 1px;margin: -1px;overflow: hidden;padding: 0;position: absolute;width: 1px;}#sk-container-id-18 div.sk-estimator {font-family: monospace;background-color: #f0f8ff;border: 1px dotted black;border-radius: 0.25em;box-sizing: border-box;margin-bottom: 0.5em;}#sk-container-id-18 div.sk-estimator:hover {background-color: #d4ebff;}#sk-container-id-18 div.sk-parallel-item::after {content: \"\";width: 100%;border-bottom: 1px solid gray;flex-grow: 1;}#sk-container-id-18 div.sk-label:hover label.sk-toggleable__label {background-color: #d4ebff;}#sk-container-id-18 div.sk-serial::before {content: \"\";position: absolute;border-left: 1px solid gray;box-sizing: border-box;top: 0;bottom: 0;left: 50%;z-index: 0;}#sk-container-id-18 div.sk-serial {display: flex;flex-direction: column;align-items: center;background-color: white;padding-right: 0.2em;padding-left: 0.2em;position: relative;}#sk-container-id-18 div.sk-item {position: relative;z-index: 1;}#sk-container-id-18 div.sk-parallel {display: flex;align-items: stretch;justify-content: center;background-color: white;position: relative;}#sk-container-id-18 div.sk-item::before, #sk-container-id-18 div.sk-parallel-item::before {content: \"\";position: absolute;border-left: 1px solid gray;box-sizing: border-box;top: 0;bottom: 0;left: 50%;z-index: -1;}#sk-container-id-18 div.sk-parallel-item {display: flex;flex-direction: column;z-index: 1;position: relative;background-color: white;}#sk-container-id-18 div.sk-parallel-item:first-child::after {align-self: flex-end;width: 50%;}#sk-container-id-18 div.sk-parallel-item:last-child::after {align-self: flex-start;width: 50%;}#sk-container-id-18 div.sk-parallel-item:only-child::after {width: 0;}#sk-container-id-18 div.sk-dashed-wrapped {border: 1px dashed gray;margin: 0 0.4em 0.5em 0.4em;box-sizing: border-box;padding-bottom: 0.4em;background-color: white;}#sk-container-id-18 div.sk-label label {font-family: monospace;font-weight: bold;display: inline-block;line-height: 1.2em;}#sk-container-id-18 div.sk-label-container {text-align: center;}#sk-container-id-18 div.sk-container {/* jupyter's `normalize.less` sets `[hidden] { display: none; }` but bootstrap.min.css set `[hidden] { display: none !important; }` so we also need the `!important` here to be able to override the default hidden behavior on the sphinx rendered scikit-learn.org. See: https://github.com/scikit-learn/scikit-learn/issues/21755 */display: inline-block !important;position: relative;}#sk-container-id-18 div.sk-text-repr-fallback {display: none;}</style><div id=\"sk-container-id-18\" class=\"sk-top-container\"><div class=\"sk-text-repr-fallback\"><pre>GridSearchCV(cv=5,\n",
       "             estimator=Pipeline(steps=[(&#x27;scaler&#x27;, StandardScaler()),\n",
       "                                       (&#x27;pca&#x27;, PCA()),\n",
       "                                       (&#x27;model&#x27;, DecisionTreeRegressor())]),\n",
       "             param_grid=[{&#x27;model__max_depth&#x27;: [2, 4, 6],\n",
       "                          &#x27;model__min_samples_leaf&#x27;: [1],\n",
       "                          &#x27;model__min_samples_split&#x27;: [0.5]}],\n",
       "             verbose=1)</pre><b>In a Jupyter environment, please rerun this cell to show the HTML representation or trust the notebook. <br />On GitHub, the HTML representation is unable to render, please try loading this page with nbviewer.org.</b></div><div class=\"sk-container\" hidden><div class=\"sk-item sk-dashed-wrapped\"><div class=\"sk-label-container\"><div class=\"sk-label sk-toggleable\"><input class=\"sk-toggleable__control sk-hidden--visually\" id=\"sk-estimator-id-79\" type=\"checkbox\" ><label for=\"sk-estimator-id-79\" class=\"sk-toggleable__label sk-toggleable__label-arrow\">GridSearchCV</label><div class=\"sk-toggleable__content\"><pre>GridSearchCV(cv=5,\n",
       "             estimator=Pipeline(steps=[(&#x27;scaler&#x27;, StandardScaler()),\n",
       "                                       (&#x27;pca&#x27;, PCA()),\n",
       "                                       (&#x27;model&#x27;, DecisionTreeRegressor())]),\n",
       "             param_grid=[{&#x27;model__max_depth&#x27;: [2, 4, 6],\n",
       "                          &#x27;model__min_samples_leaf&#x27;: [1],\n",
       "                          &#x27;model__min_samples_split&#x27;: [0.5]}],\n",
       "             verbose=1)</pre></div></div></div><div class=\"sk-parallel\"><div class=\"sk-parallel-item\"><div class=\"sk-item\"><div class=\"sk-label-container\"><div class=\"sk-label sk-toggleable\"><input class=\"sk-toggleable__control sk-hidden--visually\" id=\"sk-estimator-id-80\" type=\"checkbox\" ><label for=\"sk-estimator-id-80\" class=\"sk-toggleable__label sk-toggleable__label-arrow\">estimator: Pipeline</label><div class=\"sk-toggleable__content\"><pre>Pipeline(steps=[(&#x27;scaler&#x27;, StandardScaler()), (&#x27;pca&#x27;, PCA()),\n",
       "                (&#x27;model&#x27;, DecisionTreeRegressor())])</pre></div></div></div><div class=\"sk-serial\"><div class=\"sk-item\"><div class=\"sk-serial\"><div class=\"sk-item\"><div class=\"sk-estimator sk-toggleable\"><input class=\"sk-toggleable__control sk-hidden--visually\" id=\"sk-estimator-id-81\" type=\"checkbox\" ><label for=\"sk-estimator-id-81\" class=\"sk-toggleable__label sk-toggleable__label-arrow\">StandardScaler</label><div class=\"sk-toggleable__content\"><pre>StandardScaler()</pre></div></div></div><div class=\"sk-item\"><div class=\"sk-estimator sk-toggleable\"><input class=\"sk-toggleable__control sk-hidden--visually\" id=\"sk-estimator-id-82\" type=\"checkbox\" ><label for=\"sk-estimator-id-82\" class=\"sk-toggleable__label sk-toggleable__label-arrow\">PCA</label><div class=\"sk-toggleable__content\"><pre>PCA()</pre></div></div></div><div class=\"sk-item\"><div class=\"sk-estimator sk-toggleable\"><input class=\"sk-toggleable__control sk-hidden--visually\" id=\"sk-estimator-id-83\" type=\"checkbox\" ><label for=\"sk-estimator-id-83\" class=\"sk-toggleable__label sk-toggleable__label-arrow\">DecisionTreeRegressor</label><div class=\"sk-toggleable__content\"><pre>DecisionTreeRegressor()</pre></div></div></div></div></div></div></div></div></div></div></div></div>"
      ],
      "text/plain": [
       "GridSearchCV(cv=5,\n",
       "             estimator=Pipeline(steps=[('scaler', StandardScaler()),\n",
       "                                       ('pca', PCA()),\n",
       "                                       ('model', DecisionTreeRegressor())]),\n",
       "             param_grid=[{'model__max_depth': [2, 4, 6],\n",
       "                          'model__min_samples_leaf': [1],\n",
       "                          'model__min_samples_split': [0.5]}],\n",
       "             verbose=1)"
      ]
     },
     "execution_count": 106,
     "metadata": {},
     "output_type": "execute_result"
    }
   ],
   "source": [
    "pipeline = Pipeline([\n",
    "    ('scaler', StandardScaler()),\n",
    "    ('pca', PCA()),\n",
    "    ('model',DecisionTreeRegressor())\n",
    "])\n",
    "\n",
    "Params = [{\n",
    "        'model__max_depth' : [2, 4, 6],\n",
    "        'model__min_samples_split' :[0.5],\n",
    "        'model__min_samples_leaf': [1]}]\n",
    "\n",
    "grid_search = GridSearchCV(estimator=pipeline, param_grid=Params, cv=5, verbose = 1)\n",
    "grid_search.fit(X_train, y_train)"
   ]
  },
  {
   "cell_type": "code",
   "execution_count": 107,
   "metadata": {},
   "outputs": [
    {
     "name": "stdout",
     "output_type": "stream",
     "text": [
      "Best parameters are {'model__max_depth': 4, 'model__min_samples_leaf': 1, 'model__min_samples_split': 0.5} with a score of 0.14\n"
     ]
    }
   ],
   "source": [
    "print(\"Best parameters are %s with a score of %0.2f\"\n",
    "% (grid_search.best_params_, grid_search.best_score_))"
   ]
  },
  {
   "attachments": {},
   "cell_type": "markdown",
   "metadata": {},
   "source": [
    "For this model the max depth is only at 1, the min samples leaf is at 1(lower range) and the min samples split is at 8 (upper range)."
   ]
  },
  {
   "cell_type": "code",
   "execution_count": 108,
   "metadata": {},
   "outputs": [
    {
     "name": "stdout",
     "output_type": "stream",
     "text": [
      "Mean Absolute Error (MAE): 1.8985364103884568\n",
      "Root Mean Square Error (RMSE): 2.0172887422586974\n",
      "Coefficient of Determination (R-squared): 0.08280390284189287\n",
      "Mean Squared Error (MSE): 4.069453869643677\n",
      "Root Mean Squared Logarithmic Error (RMSLE): 0.8228879054299002\n"
     ]
    }
   ],
   "source": [
    "y_pred3 = grid_search.predict(X_test)\n",
    "\n",
    "mae = mean_absolute_error(y_test, y_pred3)\n",
    "rmse = np.sqrt(mean_squared_error(y_test, y_pred3))\n",
    "r2 = r2_score(y_test, y_pred3)\n",
    "mse = mean_squared_error(y_test, y_pred3)\n",
    "rmsle = np.sqrt(mean_squared_log_error(y_test, y_pred3))\n",
    "\n",
    "print(\"Mean Absolute Error (MAE):\", mae)\n",
    "print(\"Root Mean Square Error (RMSE):\", rmse)\n",
    "print(\"Coefficient of Determination (R-squared):\", r2)\n",
    "print(\"Mean Squared Error (MSE):\", mse)\n",
    "print(\"Root Mean Squared Logarithmic Error (RMSLE):\", rmsle)"
   ]
  },
  {
   "cell_type": "code",
   "execution_count": 109,
   "metadata": {},
   "outputs": [
    {
     "data": {
      "text/plain": [
       "0.08280390284189287"
      ]
     },
     "execution_count": 109,
     "metadata": {},
     "output_type": "execute_result"
    }
   ],
   "source": [
    "grid_search.score(X_test, y_test)"
   ]
  },
  {
   "cell_type": "code",
   "execution_count": 110,
   "metadata": {},
   "outputs": [
    {
     "data": {
      "image/png": "[encoded data removed]",
      "text/plain": [
       "<Figure size 640x480 with 1 Axes>"
      ]
     },
     "metadata": {},
     "output_type": "display_data"
    },
    {
     "data": {
      "image/png": "[encoded data removed]",
      "text/plain": [
       "<Figure size 640x480 with 1 Axes>"
      ]
     },
     "metadata": {},
     "output_type": "display_data"
    },
    {
     "data": {
      "text/plain": [
       "{'whiskers': [<matplotlib.lines.Line2D at 0x20a57176f10>,\n",
       "  <matplotlib.lines.Line2D at 0x20a57177890>,\n",
       "  <matplotlib.lines.Line2D at 0x20a57182a50>,\n",
       "  <matplotlib.lines.Line2D at 0x20a57183310>],\n",
       " 'caps': [<matplotlib.lines.Line2D at 0x20a571802d0>,\n",
       "  <matplotlib.lines.Line2D at 0x20a57180950>,\n",
       "  <matplotlib.lines.Line2D at 0x20a57183c10>,\n",
       "  <matplotlib.lines.Line2D at 0x20a57190450>],\n",
       " 'boxes': [<matplotlib.lines.Line2D at 0x20a571766d0>,\n",
       "  <matplotlib.lines.Line2D at 0x20a57182210>],\n",
       " 'medians': [<matplotlib.lines.Line2D at 0x20a57181210>,\n",
       "  <matplotlib.lines.Line2D at 0x20a57190d50>],\n",
       " 'fliers': [<matplotlib.lines.Line2D at 0x20a564aa610>,\n",
       "  <matplotlib.lines.Line2D at 0x20a57191590>],\n",
       " 'means': []}"
      ]
     },
     "execution_count": 110,
     "metadata": {},
     "output_type": "execute_result"
    },
    {
     "data": {
      "image/png": "[encoded data removed]",
      "text/plain": [
       "<Figure size 640x480 with 1 Axes>"
      ]
     },
     "metadata": {},
     "output_type": "display_data"
    }
   ],
   "source": [
    "metrics.r2_score(y_test, y_pred1)\n",
    "\n",
    "plt.scatter(y_test, y_pred1)\n",
    "plt.xlabel('Y Test')\n",
    "plt.ylabel('Prediction')\n",
    "plt.show()\n",
    "\n",
    "plt.hist([y_test-y_pred1])\n",
    "plt.title('Residuals Histogram')\n",
    "plt.xlabel('residual')\n",
    "plt.show()\n",
    "\n",
    "plt.boxplot([y_test, y_pred1], vert=False)\n"
   ]
  },
  {
   "cell_type": "code",
   "execution_count": 111,
   "metadata": {},
   "outputs": [
    {
     "data": {
      "image/png": "[encoded data removed]",
      "text/plain": [
       "<Figure size 640x480 with 1 Axes>"
      ]
     },
     "metadata": {},
     "output_type": "display_data"
    },
    {
     "data": {
      "image/png": "[encoded data removed]",
      "text/plain": [
       "<Figure size 640x480 with 1 Axes>"
      ]
     },
     "metadata": {},
     "output_type": "display_data"
    },
    {
     "data": {
      "text/plain": [
       "{'whiskers': [<matplotlib.lines.Line2D at 0x20a572096d0>,\n",
       "  <matplotlib.lines.Line2D at 0x20a571e4490>,\n",
       "  <matplotlib.lines.Line2D at 0x20a57215610>,\n",
       "  <matplotlib.lines.Line2D at 0x20a571bbad0>],\n",
       " 'caps': [<matplotlib.lines.Line2D at 0x20a571e4950>,\n",
       "  <matplotlib.lines.Line2D at 0x20a571e6dd0>,\n",
       "  <matplotlib.lines.Line2D at 0x20a571b99d0>,\n",
       "  <matplotlib.lines.Line2D at 0x20a571bb5d0>],\n",
       " 'boxes': [<matplotlib.lines.Line2D at 0x20a57208f90>,\n",
       "  <matplotlib.lines.Line2D at 0x20a571e5c90>],\n",
       " 'medians': [<matplotlib.lines.Line2D at 0x20a571e7010>,\n",
       "  <matplotlib.lines.Line2D at 0x20a571bb150>],\n",
       " 'fliers': [<matplotlib.lines.Line2D at 0x20a571e7290>,\n",
       "  <matplotlib.lines.Line2D at 0x20a571bad90>],\n",
       " 'means': []}"
      ]
     },
     "execution_count": 111,
     "metadata": {},
     "output_type": "execute_result"
    },
    {
     "data": {
      "image/png": "[encoded data removed]",
      "text/plain": [
       "<Figure size 640x480 with 1 Axes>"
      ]
     },
     "metadata": {},
     "output_type": "display_data"
    }
   ],
   "source": [
    "metrics.r2_score(y_test, y_pred2)\n",
    "\n",
    "plt.scatter(y_test, y_pred2)\n",
    "plt.xlabel('Y Test')\n",
    "plt.ylabel('Prediction')\n",
    "plt.show()\n",
    "\n",
    "plt.hist([y_test-y_pred2])\n",
    "plt.title('Residuals Histogram')\n",
    "plt.xlabel('residual')\n",
    "plt.show()\n",
    "\n",
    "plt.boxplot([y_test, y_pred2], vert=False)\n"
   ]
  },
  {
   "cell_type": "code",
   "execution_count": 112,
   "metadata": {},
   "outputs": [
    {
     "data": {
      "image/png": "[encoded data removed]",
      "text/plain": [
       "<Figure size 640x480 with 1 Axes>"
      ]
     },
     "metadata": {},
     "output_type": "display_data"
    },
    {
     "data": {
      "image/png": "[encoded data removed]",
      "text/plain": [
       "<Figure size 640x480 with 1 Axes>"
      ]
     },
     "metadata": {},
     "output_type": "display_data"
    },
    {
     "data": {
      "text/plain": [
       "{'whiskers': [<matplotlib.lines.Line2D at 0x20a56811150>,\n",
       "  <matplotlib.lines.Line2D at 0x20a56811b50>,\n",
       "  <matplotlib.lines.Line2D at 0x20a5681cd50>,\n",
       "  <matplotlib.lines.Line2D at 0x20a5681d5d0>],\n",
       " 'caps': [<matplotlib.lines.Line2D at 0x20a568124d0>,\n",
       "  <matplotlib.lines.Line2D at 0x20a56812d10>,\n",
       "  <matplotlib.lines.Line2D at 0x20a5681d8d0>,\n",
       "  <matplotlib.lines.Line2D at 0x20a5681e6d0>],\n",
       " 'boxes': [<matplotlib.lines.Line2D at 0x20a56810910>,\n",
       "  <matplotlib.lines.Line2D at 0x20a5681c4d0>],\n",
       " 'medians': [<matplotlib.lines.Line2D at 0x20a56813490>,\n",
       "  <matplotlib.lines.Line2D at 0x20a5681eed0>],\n",
       " 'fliers': [<matplotlib.lines.Line2D at 0x20a56813ad0>,\n",
       "  <matplotlib.lines.Line2D at 0x20a5681f610>],\n",
       " 'means': []}"
      ]
     },
     "execution_count": 112,
     "metadata": {},
     "output_type": "execute_result"
    },
    {
     "data": {
      "image/png": "[encoded data removed]",
      "text/plain": [
       "<Figure size 640x480 with 1 Axes>"
      ]
     },
     "metadata": {},
     "output_type": "display_data"
    }
   ],
   "source": [
    "metrics.r2_score(y_test, y_pred3)\n",
    "\n",
    "plt.scatter(y_test, y_pred3)\n",
    "plt.xlabel('Y Test')\n",
    "plt.ylabel('Prediction')\n",
    "plt.show()\n",
    "\n",
    "plt.hist([y_test-y_pred3])\n",
    "plt.title('Residuals Histogram')\n",
    "plt.xlabel('residual')\n",
    "plt.show()\n",
    "\n",
    "plt.boxplot([y_test, y_pred3], vert=False)\n"
   ]
  },
  {
   "cell_type": "code",
   "execution_count": null,
   "metadata": {},
   "outputs": [],
   "source": []
  }
 ],
 "metadata": {
  "kernelspec": {
   "display_name": "plotly_bokeh",
   "language": "python",
   "name": "plotly_bokeh"
  },
  "language_info": {
   "codemirror_mode": {
    "name": "ipython",
    "version": 3
   },
   "file_extension": ".py",
   "mimetype": "text/x-python",
   "name": "python",
   "nbconvert_exporter": "python",
   "pygments_lexer": "ipython3",
   "version": "3.11.5"
  },
  "orig_nbformat": 4
 },
 "nbformat": 4,
 "nbformat_minor": 2
}
